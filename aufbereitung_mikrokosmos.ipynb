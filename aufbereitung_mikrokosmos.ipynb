{
 "cells": [
  {
   "cell_type": "markdown",
   "metadata": {},
   "source": [
    "# A. Informationen zum Notebook"
   ]
  },
  {
   "cell_type": "markdown",
   "metadata": {},
   "source": [
    "<p>Herausgeber: Tobias Vetterle, André Förster, Koordinierungsstelle Bildungsmonitoring (KOSMO)</p>\n",
    "<p>Version: 2.0.0 (26.07.2023)<p/>\n",
    "\n",
    "<p>Dieses Notebook dient dazu, Gemeindedaten der Bundesagentur fuer Arbeit (BA) mit Bevoelkerungsdaten des Statistischen Bundesamtes (Destatis) zu verknuepfen, um daraus gemeindespezifische SGB-II-Quoten berechnen zu koennen. Hierbei wird auf folgende Originaldaten der BA und von Destatis zugegriffen, die von den entsprechenden Stellen bezogen werden koennen: </p>\n",
    "\n",
    "- Statistik der Bundesagentur fuer Arbeit, Auftragsnummer 338634, Teil 1-5 (Eckwerte der Grundsicherung nach Gemeinden, Gebietsstand Dezember des jeweiligen Jahres, Jahresdurchschnittswerte, Datenstand: Maerz 2023, Daten zu Leistungen nach dem SGB II nach einer Wartezeit von 3 Monaten)\n",
    "- Statistisches Bundesamt (Destatis), Bevoelkerungszahlen auf Gemeindeebene nach Geschlecht und Alter (Fortschreibung Zensus 2011, Stichtagsdaten zum 31.12. fuer Gebietsstand und Bevoelkerungszahl des jeweiligen Berichtsjahres (2014-2021)) \n",
    "\n",
    "Um die Aufbereitung der Daten korrekt durchfuehren zu koennen, muessen diese Notebook-Datei (.ipynb) sowie die Originaldaten bzw. -dateien der BA und von Destatis in einem lokalen Ordner gespeichert werden."
   ]
  },
  {
   "cell_type": "markdown",
   "metadata": {},
   "source": [
    "# 0. Vorbereitung der Daten"
   ]
  },
  {
   "cell_type": "code",
   "execution_count": 1,
   "metadata": {},
   "outputs": [],
   "source": [
    "# Benoetigte Pakete importieren\n",
    "import pandas as pd\n",
    "import os\n",
    "import glob\n",
    "import seaborn as sns\n",
    "import matplotlib.pyplot as plt\n",
    "import numpy as np\n",
    "\n",
    "# Hinweis: die folgende Bibliothek muss manuell installiert werden\n",
    "from mapclassify import NaturalBreaks\n",
    "from mapclassify import FisherJenksSampled\n",
    "from mapclassify import FisherJenks\n",
    "\n",
    "# Warnmeldungen unterdruecken\n",
    "import warnings\n",
    "warnings.filterwarnings('ignore')"
   ]
  },
  {
   "cell_type": "code",
   "execution_count": 2,
   "metadata": {},
   "outputs": [],
   "source": [
    "# Begrenzung der Spaltendarstellung deaktivieren\n",
    "pd.set_option(\"display.max_columns\", None)"
   ]
  },
  {
   "cell_type": "code",
   "execution_count": 3,
   "metadata": {},
   "outputs": [],
   "source": [
    "# Einlesen der Gemeindedaten der Bundesagentur fuer Arbeit (BA) aus den Jahren 2014 bis 2021\n",
    "\n",
    "# Dateinamen und Tabellennamen abrufen\n",
    "file_names = [\n",
    "    (\"230328_EA_338634_Gemeindedaten_Teil1.xlsx\", \"2014\"),\n",
    "    (\"230328_EA_338634_Gemeindedaten_Teil2.xlsx\", \"2015\"),\n",
    "    (\"230328_EA_338634_Gemeindedaten_Teil2.xlsx\", \"2016\"),\n",
    "    (\"230328_EA_338634_Gemeindedaten_Teil3.xlsx\", \"2017\"),\n",
    "    (\"230328_EA_338634_Gemeindedaten_Teil3.xlsx\", \"2018\"),\n",
    "    (\"230328_EA_338634_Gemeindedaten_Teil4.xlsx\", \"2019\"),\n",
    "    (\"230328_EA_338634_Gemeindedaten_Teil4.xlsx\", \"2020\"),\n",
    "    (\"230328_EA_338634_Gemeindedaten_Teil5.xlsx\", \"2021\")\n",
    "]\n",
    "\n",
    "# Dictionary fuer die Dataframes erstellen\n",
    "dataframes = {}\n",
    "\n",
    "# Ueber Dateien und Tabellennamen iterieren\n",
    "for file_name, sheet_name in file_names:\n",
    "    # Spezifisches Tabellenblatt in einen DataFrame einlesen\n",
    "    df = pd.read_excel(file_name, sheet_name=sheet_name)\n",
    "    # DataFrame im Dictionary speichern\n",
    "    dataframes[\"ba_\" + sheet_name] = df\n",
    "\n",
    "# Zugriff auf die Dataframes\n",
    "ba_2014 = dataframes[\"ba_2014\"]\n",
    "ba_2015 = dataframes[\"ba_2015\"]\n",
    "ba_2016 = dataframes[\"ba_2016\"]\n",
    "ba_2017 = dataframes[\"ba_2017\"]\n",
    "ba_2018 = dataframes[\"ba_2018\"]\n",
    "ba_2019 = dataframes[\"ba_2019\"]\n",
    "ba_2020 = dataframes[\"ba_2020\"]\n",
    "ba_2021 = dataframes[\"ba_2021\"]"
   ]
  },
  {
   "cell_type": "markdown",
   "metadata": {},
   "source": [
    "# 1. BA-Daten umformen\n",
    "\n",
    "### 1.1 Grundlegende Umformung der Ausgangsdaten"
   ]
  },
  {
   "cell_type": "code",
   "execution_count": 4,
   "metadata": {
    "scrolled": true
   },
   "outputs": [],
   "source": [
    "# Funktion zur Transformation der Daten definieren\n",
    "def transform_dataframe(df):\n",
    "    # Zeilen 0 bis 7 entfernen\n",
    "    df = df.drop(df.index[0:7])\n",
    "    \n",
    "    # Letzte Zeile entfernen\n",
    "    df = df.drop(df.index[-1])\n",
    "    \n",
    "    # Spalte 'Unnamed: 0' nach Leerzeichen trennen und in neue Spalten 'AGS' und 'Gemeinde' aufteilen\n",
    "    df[['AGS', 'Gemeinde']] = df['Unnamed: 0'].str.split(' ', 1, expand=True)\n",
    "    \n",
    "    # Spalte 'Unnamed: 0' entfernen\n",
    "    df = df.drop(['Unnamed: 0'], axis=1)\n",
    "    \n",
    "    # Erstellen einer Kontrollspalte 'Gesamtwerte_Kontrolle' mit den Spalten 'AGS', 'Gemeinde' und 'Unnamed: 1'\n",
    "    Gesamtwerte_Kontrolle = df[['AGS', 'Gemeinde', 'Unnamed: 1']].copy()\n",
    "    \n",
    "    # Spalte 'Unnamed: 1' entfernen\n",
    "    df.drop(['Unnamed: 1'], axis=1, inplace=True)\n",
    "    \n",
    "    # Nur Spalten ab der 23. Spalte behalten\n",
    "    df = df.iloc[:, 23:]\n",
    "    \n",
    "    # Fehlende Werte in Zeile 5 mit den Werten der vorherigen Zeilen fuellen\n",
    "    df.iloc[5] = df.iloc[5].fillna(df.iloc[4])\n",
    "    df.iloc[5] = df.iloc[5].fillna(df.iloc[3])\n",
    "    df.iloc[5] = df.iloc[5].fillna(df.iloc[2])\n",
    "    \n",
    "    # Zeilen 7, 9, 10, 11 und 13 entfernen\n",
    "    df = df.drop([7, 9, 10, 11, 13])\n",
    "    \n",
    "    # Letzte beiden Werte in Zeile 1 mit den Werten der letzten beiden Spaltennamen fuellen\n",
    "    df.iloc[1, -1] = df.columns[-1]\n",
    "    df.iloc[1, -2] = df.columns[-2]\n",
    "    \n",
    "    # Neue Spaltennamen aus Zeile 1 erstellen\n",
    "    new_columns = df.iloc[1].tolist()\n",
    "    \n",
    "    # Spaltennamen aktualisieren\n",
    "    df = df.set_axis(new_columns, axis=1, inplace=False)\n",
    "    \n",
    "    # Zeile 12 entfernen\n",
    "    df = df.drop(12)\n",
    "    \n",
    "    # Transformiertes DataFrame zurueckgeben\n",
    "    return df\n",
    "\n",
    "# Definierte Funktion auf die Daten anwenden und damit Dataframes erstellen\n",
    "ba_2014 = transform_dataframe(ba_2014)\n",
    "ba_2015 = transform_dataframe(ba_2015)\n",
    "ba_2016 = transform_dataframe(ba_2016)\n",
    "ba_2017 = transform_dataframe(ba_2017)\n",
    "ba_2018 = transform_dataframe(ba_2018)\n",
    "ba_2019 = transform_dataframe(ba_2019)\n",
    "ba_2020 = transform_dataframe(ba_2020)\n",
    "ba_2021 = transform_dataframe(ba_2021)"
   ]
  },
  {
   "cell_type": "markdown",
   "metadata": {},
   "source": [
    "### 1.2 Spalte fuer Geschlecht ergaenzen und Tabelle entsprechend stapeln"
   ]
  },
  {
   "cell_type": "code",
   "execution_count": 5,
   "metadata": {},
   "outputs": [],
   "source": [
    "# Funktion zur Transformation der Daten definieren\n",
    "def apply_transformation(df):\n",
    "    # Daten (maennlich) aus den ersten 24 Spalten und den Spalten 48 und 49 extrahieren\n",
    "    df_m = df.iloc[:, list(range(24)) + [48, 49]]\n",
    "    \n",
    "    # Daten (weiblich) aus den Spalten 24 bis 49 extrahieren\n",
    "    df_w = df.iloc[:, 24:50]\n",
    "    \n",
    "    # Geschlecht fuer Daten (weiblich) auf \"w\" setzen\n",
    "    df_w.loc[:, \"Geschlecht\"] = \"w\"\n",
    "    \n",
    "    # Geschlecht fuer Daten (maennlich) auf \"m\" setzen\n",
    "    df_m.loc[:, \"Geschlecht\"] = \"m\"\n",
    "    \n",
    "    # Zeile 8 aus Daten (weiblich) entfernen\n",
    "    df_w = df_w.drop([8])\n",
    "    \n",
    "    # Zeile 8 aus Daten (maennlich) entfernen\n",
    "    df_m = df_m.drop([8])\n",
    "    \n",
    "    # Daten (maennlich und weiblich) zu einem DataFrame kombinieren\n",
    "    combined_df = df_m.append(df_w, ignore_index=True)\n",
    "    \n",
    "    # Spalten umbenennen, indem Bindestriche \"-\" entfernt werden\n",
    "    combined_df = combined_df.rename(columns=lambda x: x.replace('-', ''))\n",
    "    \n",
    "    return combined_df\n",
    "\n",
    "# Definierte Funktion auf die Daten anwenden und damit Dataframes transformieren\n",
    "ba_2014_combined = apply_transformation(ba_2014)\n",
    "ba_2015_combined = apply_transformation(ba_2015)\n",
    "ba_2016_combined = apply_transformation(ba_2016)\n",
    "ba_2017_combined = apply_transformation(ba_2017)\n",
    "ba_2018_combined = apply_transformation(ba_2018)\n",
    "ba_2019_combined = apply_transformation(ba_2019)\n",
    "ba_2020_combined = apply_transformation(ba_2020)\n",
    "ba_2021_combined = apply_transformation(ba_2021)"
   ]
  },
  {
   "cell_type": "markdown",
   "metadata": {},
   "source": [
    "### 1.3 Gestapelte Zieltabellen erstellen:\n",
    "\n",
    " - Ein Dataframe (DF) mit Leistungsberechtigten (LB) nach Geschlecht und Altersgruppen, das sich auf Anzahl der LB aggregieren laesst\n",
    "     - Spalte \"LB unter 15 Jahren\" loeschen, da aus anderen Spalten summierbar\n",
    "     - Spalte \"LB unter 65 Jahren\" loeschen, da aus anderen Spalten summierbar \n",
    "     - Spalte \"15 bis unter 18 Jahren (Kinder)\" loeschen\n",
    " - Ein DF mit arbeitssuchenden erwerbsfaehigen Leistungsberechtigten (ELB) nach Geschlecht und Schulabschluessen (Unterscheidung Schulabschluesse nur fuer \"arbeitssuchende ELB\" moeglich)\n",
    "     - Spalten 15 - 20 in der Ausgangsdatei\n",
    " - Ein DF mit arbeitssuchenden ELB nach Geschlecht und Berufsausbildung (Unterscheidung Berufsausbildung nur fuer \"arbeitssuchende ELB\" moeglich)\n",
    "     - Spalten 21- 24 in der Ausgangsdatei"
   ]
  },
  {
   "cell_type": "code",
   "execution_count": 6,
   "metadata": {},
   "outputs": [],
   "source": [
    "# Funktion zur Transformation der Daten definieren\n",
    "def apply_transformation(df, year):\n",
    "    # relevante Spalten aus dem kombinierten Dataframe extrahieren\n",
    "    LB_nach_Altersgruppen = df.iloc[:, [3, 4, 5, 6, 7, 8, 24, 25, 26]].copy()\n",
    "\n",
    "    # Datensatz in langes Format umwandeln, indem Altersgruppen in separate Spalte transformiert werden\n",
    "    LB_nach_Altersgruppen = pd.melt(LB_nach_Altersgruppen, id_vars=['AGS', 'Gemeinde', 'Geschlecht'], value_vars=['unter 3 Jahren', '3 bis unter 6 Jahren', '6 bis unter 15 Jahren', '15 bis unter 18 Jahren', '18 bis unter 25 Jahren', '25 bis unter 65 Jahren'], var_name='Altersgruppe', value_name='Anzahl')\n",
    "\n",
    "    # Spalte hinzufuegen, um das Jahr zu speichern\n",
    "    LB_nach_Altersgruppen['Jahr'] = year\n",
    "\n",
    "    # Spalten \"AGS\" und \"Jahr\" in Ganzzahlen umwandeln\n",
    "    LB_nach_Altersgruppen[\"AGS\"] = pd.to_numeric(LB_nach_Altersgruppen[\"AGS\"], downcast=\"integer\")\n",
    "    LB_nach_Altersgruppen[\"Jahr\"] = pd.to_numeric(LB_nach_Altersgruppen[\"Jahr\"], downcast=\"integer\")\n",
    "\n",
    "    # gleicher Vorgang fuer arbeitssuchende ELB nach Schulabschluessen\n",
    "    ELB_arbeitssuchend_nach_Schulabschluessen = df.iloc[:, [13, 14, 15, 16, 17, 18, 19, 24, 25, 26]].copy()\n",
    "    ELB_arbeitssuchend_nach_Schulabschluessen = pd.melt(ELB_arbeitssuchend_nach_Schulabschluessen, id_vars=['AGS', 'Gemeinde', 'Geschlecht', 'arbeitsuchende ELB insgesamt'], value_vars=['kein Hauptschulabschluss', 'Hauptschulabschluss', 'mittlere Reife', 'Fachhochschule', 'Abitur/ Hochschulreife', 'keine Angabe'], var_name='Schulabschluss', value_name='Anzahl')\n",
    "    ELB_arbeitssuchend_nach_Schulabschluessen['Jahr'] = year\n",
    "    ELB_arbeitssuchend_nach_Schulabschluessen[\"AGS\"] = pd.to_numeric(ELB_arbeitssuchend_nach_Schulabschluessen[\"AGS\"], downcast=\"integer\")\n",
    "    ELB_arbeitssuchend_nach_Schulabschluessen[\"Jahr\"] = pd.to_numeric(ELB_arbeitssuchend_nach_Schulabschluessen[\"Jahr\"], downcast=\"integer\")\n",
    "\n",
    "    # gleicher Vorgang fuer die ELB arbeitssuchend nach Berufsausbildung\n",
    "    ELB_arbeitssuchend_nach_Berufsausbildung = df.iloc[:, [13, 20, 21, 22, 23, 24, 25, 26]].copy()\n",
    "    ELB_arbeitssuchend_nach_Berufsausbildung = pd.melt(ELB_arbeitssuchend_nach_Berufsausbildung, id_vars=['AGS', 'Gemeinde', 'Geschlecht', 'arbeitsuchende ELB insgesamt'], value_vars=['ohne abgeschlossene Berufsausbildung', 'betriebliche/schulische Ausbildung', 'akademische Ausbildung', 'keine Angabe'], var_name='Berufsausbildung', value_name='Anzahl')\n",
    "    ELB_arbeitssuchend_nach_Berufsausbildung['Jahr'] = year\n",
    "    ELB_arbeitssuchend_nach_Berufsausbildung[\"AGS\"] = pd.to_numeric(ELB_arbeitssuchend_nach_Berufsausbildung[\"AGS\"], downcast=\"integer\")\n",
    "    ELB_arbeitssuchend_nach_Berufsausbildung[\"Jahr\"] = pd.to_numeric(ELB_arbeitssuchend_nach_Berufsausbildung[\"Jahr\"], downcast=\"integer\")\n",
    "\n",
    "    # Rueckgabe der Ergebnisse in separaten Dataframes\n",
    "    return LB_nach_Altersgruppen, ELB_arbeitssuchend_nach_Schulabschluessen, ELB_arbeitssuchend_nach_Berufsausbildung\n",
    "\n",
    "# Definierte Funktion auf die Daten anwenden und damit Dataframes transformieren\n",
    "LB_nach_Altersgruppen_2014, ELB_arbeitssuchend_nach_Schulabschluessen_2014, ELB_arbeitssuchend_nach_Berufsausbildung_2014 = apply_transformation(ba_2014_combined, 2014)\n",
    "LB_nach_Altersgruppen_2015, ELB_arbeitssuchend_nach_Schulabschluessen_2015, ELB_arbeitssuchend_nach_Berufsausbildung_2015 = apply_transformation(ba_2015_combined, 2015)\n",
    "LB_nach_Altersgruppen_2016, ELB_arbeitssuchend_nach_Schulabschluessen_2016, ELB_arbeitssuchend_nach_Berufsausbildung_2016 = apply_transformation(ba_2016_combined, 2016)\n",
    "LB_nach_Altersgruppen_2017, ELB_arbeitssuchend_nach_Schulabschluessen_2017, ELB_arbeitssuchend_nach_Berufsausbildung_2017 = apply_transformation(ba_2017_combined, 2017)\n",
    "LB_nach_Altersgruppen_2018, ELB_arbeitssuchend_nach_Schulabschluessen_2018, ELB_arbeitssuchend_nach_Berufsausbildung_2018 = apply_transformation(ba_2018_combined, 2018)\n",
    "LB_nach_Altersgruppen_2019, ELB_arbeitssuchend_nach_Schulabschluessen_2019, ELB_arbeitssuchend_nach_Berufsausbildung_2019 = apply_transformation(ba_2019_combined, 2019)\n",
    "LB_nach_Altersgruppen_2020, ELB_arbeitssuchend_nach_Schulabschluessen_2020, ELB_arbeitssuchend_nach_Berufsausbildung_2020 = apply_transformation(ba_2020_combined, 2020)\n",
    "LB_nach_Altersgruppen_2021, ELB_arbeitssuchend_nach_Schulabschluessen_2021, ELB_arbeitssuchend_nach_Berufsausbildung_2021 = apply_transformation(ba_2021_combined, 2021)"
   ]
  },
  {
   "cell_type": "markdown",
   "metadata": {},
   "source": [
    "# 2. Bevoelkerungsdaten umformen\n",
    "\n"
   ]
  },
  {
   "cell_type": "code",
   "execution_count": 7,
   "metadata": {},
   "outputs": [],
   "source": [
    "# Liste mit den Dateinamen erstellen\n",
    "file_names = glob.glob('bevoelkerung_alter_geschlecht_*.csv')\n",
    "\n",
    "# Schleife ueber alle Dateien\n",
    "for file in file_names:\n",
    "    # Jahreszahl aus dem Dateinamen extrahieren\n",
    "    year = file.split('_')[-1].split('.')[0]\n",
    "\n",
    "    # Daten einlesen und jede CSV in einem DataFrame mit der Bezeichnung \"bevoelkerung_yyyy\" speichern\n",
    "    df_name = 'bevoelkerung_' + year\n",
    "    globals()[df_name] = pd.read_csv(file, encoding='ISO-8859-1', delimiter=';')\n",
    "\n",
    "    # Umwandlung der Spalte \"Geschlecht\"\n",
    "    for df in [globals()[df_name]]:\n",
    "        df['Geschlecht'] = df['Geschlecht'].astype(str)\n",
    "        df['Geschlecht'] = df['Geschlecht'].replace({'2': 'w', '1': 'm'})\n",
    "\n",
    "    # Umwandlung der Spalte \"Alter\"\n",
    "    for df in [globals()[df_name]]:\n",
    "        df['Alter'] = df['Alter'].replace({'u3': 'unter 3 Jahren', '3-u6': '3 bis unter 6 Jahren',\n",
    "                                           '6-u15': '6 bis unter 15 Jahren', '15-u18': '15 bis unter 18 Jahren',\n",
    "                                           '18-u25': '18 bis unter 25 Jahren', '25-u65': '25 bis unter 65 Jahren'})\n",
    "\n",
    "    # Entfernung der Zeilen mit den Werten \"u65\" und \"ue65\" in der Spalte \"Alter\"\n",
    "    for df in [globals()[df_name]]:\n",
    "        df.drop(df[(df['Alter'] == 'u65') | (df['Alter'] == 'ü65') | (df['Alter'] == 'insg')].index, inplace=True)\n",
    "    \n",
    "    # Spaltennamen aendern      \n",
    "    for df in [globals()[df_name]]:\n",
    "        df.rename(columns={\"Alter\": \"Altersgruppe\", \"Anzahl\": \"Anzahl_Bevoelkerung\"}, inplace=True)"
   ]
  },
  {
   "cell_type": "markdown",
   "metadata": {},
   "source": [
    "# 3. Sozial- und Bevoelkerungsdaten zusammenfuegen (\"Merge\") und Quoten berechnen\n",
    "\n",
    "## 3.1 Merge"
   ]
  },
  {
   "cell_type": "markdown",
   "metadata": {},
   "source": [
    "### Plan fuer den Merge (hier fuer 2021, analog auch auf weitere Jahrgaenge uebertragbar):\n",
    "\n",
    "- LB_nach_Altersgruppen_2021 und bevoelkerung_2021: \n",
    "    - Ziel: Anteil der LB (nach Altersgruppen und Geschlecht) an der jeweiligen Bevoelkerung berechnen\n",
    "    - Vorbereitung: bevoelkerung_2021 gruppieren nach \"AGS\" und \"Geschlecht\", sodass Summe der u65 Jaehrigen gebildet wird fuer SGBII-Quote\n",
    "    - Merge ueber die Spalten \"AGS\", \"Geschlecht\"\n",
    "- ELB_arbeitssuchend_nach_Berufsausbildung_2021:\n",
    "    - Ziel: Anteil der arbeitssuchenden ELB nach Berufsausbildung und Geschlecht an der Gesamtzahl der arbeitssuchenden ELB 15-u65 berechnen\n",
    "    - Kein Merge mit Bevoelkerungsdaten erforderlich\n",
    "- ELB_arbeitssuchend_nach_Schulabschluessen_2021:\n",
    "    - Ziel: Anteil der arbeitssuchenden ELB nach Schulabschluss und Geschlecht an der Gesamtzahl der arbeitssuchenden ELB 15-u65 berechnen\n",
    "    - Kein Merge mit Bevoelkerungsdaten erforderlich"
   ]
  },
  {
   "cell_type": "code",
   "execution_count": 8,
   "metadata": {},
   "outputs": [],
   "source": [
    "# Merge der Dataframes fuer 2014\n",
    "\n",
    "## LB\n",
    "merged_lb_bev_2014 = LB_nach_Altersgruppen_2014.merge(bevoelkerung_2014, on=[\"AGS\", \"Geschlecht\", \"Altersgruppe\"])\n",
    "\n",
    "# Merge der Dataframes fuer die uebrigen Jahre\n",
    "\n",
    "## LB\n",
    "merged_lb_bev_2015 = LB_nach_Altersgruppen_2015.merge(bevoelkerung_2015, on=[\"AGS\", \"Geschlecht\", \"Altersgruppe\"])\n",
    "merged_lb_bev_2016 = LB_nach_Altersgruppen_2016.merge(bevoelkerung_2016, on=[\"AGS\", \"Geschlecht\", \"Altersgruppe\"])\n",
    "merged_lb_bev_2017 = LB_nach_Altersgruppen_2017.merge(bevoelkerung_2017, on=[\"AGS\", \"Geschlecht\", \"Altersgruppe\"])\n",
    "merged_lb_bev_2018 = LB_nach_Altersgruppen_2018.merge(bevoelkerung_2018, on=[\"AGS\", \"Geschlecht\", \"Altersgruppe\"])\n",
    "merged_lb_bev_2019 = LB_nach_Altersgruppen_2019.merge(bevoelkerung_2019, on=[\"AGS\", \"Geschlecht\", \"Altersgruppe\"])\n",
    "merged_lb_bev_2020 = LB_nach_Altersgruppen_2020.merge(bevoelkerung_2020, on=[\"AGS\", \"Geschlecht\", \"Altersgruppe\"])\n",
    "merged_lb_bev_2021 = LB_nach_Altersgruppen_2021.merge(bevoelkerung_2021, on=[\"AGS\", \"Geschlecht\", \"Altersgruppe\"])"
   ]
  },
  {
   "cell_type": "markdown",
   "metadata": {},
   "source": [
    "### 3.2 Ergebnistabellen stapeln"
   ]
  },
  {
   "cell_type": "code",
   "execution_count": 9,
   "metadata": {},
   "outputs": [],
   "source": [
    "stacked_lb_bev = pd.concat([merged_lb_bev_2014, merged_lb_bev_2015, merged_lb_bev_2016, merged_lb_bev_2017, merged_lb_bev_2018, merged_lb_bev_2019, merged_lb_bev_2020, merged_lb_bev_2021], ignore_index=True)\n",
    "stacked_elb_schul = pd.concat([ELB_arbeitssuchend_nach_Schulabschluessen_2014, ELB_arbeitssuchend_nach_Schulabschluessen_2015, ELB_arbeitssuchend_nach_Schulabschluessen_2016, ELB_arbeitssuchend_nach_Schulabschluessen_2017, ELB_arbeitssuchend_nach_Schulabschluessen_2018, ELB_arbeitssuchend_nach_Schulabschluessen_2019, ELB_arbeitssuchend_nach_Schulabschluessen_2020, ELB_arbeitssuchend_nach_Schulabschluessen_2021], ignore_index=True)\n",
    "stacked_elb_beruf = pd.concat([ELB_arbeitssuchend_nach_Berufsausbildung_2014, ELB_arbeitssuchend_nach_Berufsausbildung_2015, ELB_arbeitssuchend_nach_Berufsausbildung_2016, ELB_arbeitssuchend_nach_Berufsausbildung_2017, ELB_arbeitssuchend_nach_Berufsausbildung_2018, ELB_arbeitssuchend_nach_Berufsausbildung_2019, ELB_arbeitssuchend_nach_Berufsausbildung_2020, ELB_arbeitssuchend_nach_Berufsausbildung_2021], ignore_index=True)"
   ]
  },
  {
   "cell_type": "markdown",
   "metadata": {},
   "source": [
    "### 3.3 Ergebnistabellen Spalten umbennen"
   ]
  },
  {
   "cell_type": "code",
   "execution_count": 10,
   "metadata": {},
   "outputs": [],
   "source": [
    "# Umbenennungen im DataFrame \"stacked_lb_bev\"\n",
    "stacked_lb_bev = stacked_lb_bev.rename(columns={\"Altersgruppe\": \"Altersgruppe_LB\",\n",
    "                                                \"Anzahl\": \"Anzahl_LB\"})\n",
    "\n",
    "# Umbenennungen im DataFrame \"stacked_elb_schul\"\n",
    "stacked_elb_schul = stacked_elb_schul.rename(columns={\"arbeitsuchende ELB insgesamt\": \"arbeitsuchende_elb_insgesamt\"})\n",
    "\n",
    "# Umbenennungen im DataFrame \"stacked_elb_beruf\"\n",
    "stacked_elb_beruf = stacked_elb_beruf.rename(columns={\"arbeitsuchende ELB insgesamt\": \"arbeitsuchende_elb_insgesamt\"}) "
   ]
  },
  {
   "cell_type": "markdown",
   "metadata": {},
   "source": [
    "### 3.4 Differenzierung nach Geschlecht aufheben"
   ]
  },
  {
   "cell_type": "code",
   "execution_count": 11,
   "metadata": {},
   "outputs": [],
   "source": [
    "grouping_columns = ['AGS', 'Gemeinde', 'Altersgruppe_LB', 'Jahr']\n",
    "\n",
    "# Gruppieren und Summieren\n",
    "stacked_lb_bev = stacked_lb_bev.groupby(grouping_columns, as_index=False).agg({\n",
    "    'Anzahl_LB': 'sum',\n",
    "    'Anzahl_Bevoelkerung': 'sum'\n",
    "})"
   ]
  },
  {
   "cell_type": "code",
   "execution_count": 12,
   "metadata": {},
   "outputs": [],
   "source": [
    "grouping_columns = ['AGS', 'Gemeinde', 'Schulabschluss', 'Jahr']\n",
    "\n",
    "# Gruppieren und Summieren\n",
    "stacked_elb_schul = stacked_elb_schul.groupby(grouping_columns, as_index=False).agg({\n",
    "    'arbeitsuchende_elb_insgesamt': 'sum',\n",
    "    'Anzahl': 'sum'\n",
    "})"
   ]
  },
  {
   "cell_type": "code",
   "execution_count": 13,
   "metadata": {},
   "outputs": [],
   "source": [
    "grouping_columns = ['AGS', 'Gemeinde', 'Berufsausbildung', 'Jahr']\n",
    "\n",
    "# Gruppieren und Summieren\n",
    "stacked_elb_beruf = stacked_elb_beruf.groupby(grouping_columns, as_index=False).agg({\n",
    "    'arbeitsuchende_elb_insgesamt': 'sum',\n",
    "    'Anzahl': 'sum'\n",
    "})"
   ]
  },
  {
   "cell_type": "markdown",
   "metadata": {},
   "source": [
    "### 3.5 Altersgruppen zusammenfassen, sodass folgende Altersdifferenzierung uebrig bleibt: 0-u6; 6-u15; 15-u18; 18-u65"
   ]
  },
  {
   "cell_type": "code",
   "execution_count": 14,
   "metadata": {},
   "outputs": [],
   "source": [
    "unique_ages = stacked_lb_bev[\"Altersgruppe_LB\"].unique()"
   ]
  },
  {
   "cell_type": "code",
   "execution_count": 15,
   "metadata": {},
   "outputs": [],
   "source": [
    "# Werte in der Spalte 'Altersgruppe_LB' ersetzen, um anschliessend gruppieren zu koennen\n",
    "replacement_dict = {\n",
    "    'unter 3 Jahren': '0 bis unter 6 Jahren',\n",
    "    '3 bis unter 6 Jahren': '0 bis unter 6 Jahren',\n",
    "    '18 bis unter 25 Jahren': '18 bis unter 65 Jahren',\n",
    "    '25 bis unter 65 Jahren': '18 bis unter 65 Jahren'\n",
    "}\n",
    "\n",
    "stacked_lb_bev['Altersgruppe_LB'] = stacked_lb_bev['Altersgruppe_LB'].replace(replacement_dict)\n",
    "\n",
    "# Liste der Spalten, nach denen gruppiert werden soll\n",
    "grouping_columns = ['AGS', 'Gemeinde', 'Altersgruppe_LB', 'Jahr']\n",
    "\n",
    "# Gruppieren und Summieren\n",
    "stacked_lb_bev = stacked_lb_bev.groupby(grouping_columns, as_index=False).agg({\n",
    "    'Anzahl_LB': 'sum',\n",
    "    'Anzahl_Bevoelkerung': 'sum'\n",
    "})"
   ]
  },
  {
   "cell_type": "markdown",
   "metadata": {},
   "source": [
    "### 3.6 SGB-II Quoten berechnen "
   ]
  },
  {
   "cell_type": "code",
   "execution_count": 16,
   "metadata": {
    "scrolled": false
   },
   "outputs": [],
   "source": [
    "# Bevoelkerungsdaten enthalten Zeilen, in denen die jeweilige Bevoelkerung = 0 ist; daher Zeilen mit Bevoelkerung = 0 aus Bevoelkerungsdaten entfernen, um Teilen durch 0 bei der Berechnung der Quote zu verhindern\n",
    "stacked_lb_bev = stacked_lb_bev[stacked_lb_bev.Anzahl_Bevoelkerung != 0]\n",
    "\n",
    "# Berechnung der SGB2-Quote (%)\n",
    "stacked_lb_bev[\"SGB2-Quote (%)\"] = (stacked_lb_bev[\"Anzahl_LB\"] / stacked_lb_bev[\"Anzahl_Bevoelkerung\"]) * 100"
   ]
  },
  {
   "cell_type": "code",
   "execution_count": 17,
   "metadata": {
    "scrolled": true
   },
   "outputs": [],
   "source": [
    "# BA-Daten enthalten Zeilen, in denen arbeitsuchende ELB = 0 ist; daher entsprechende Zeilen entfernen, um Teilen durch 0 bei der Berechnung der Quote zu verhindern\n",
    "stacked_elb_schul = stacked_elb_schul[stacked_elb_schul.arbeitsuchende_elb_insgesamt != 0]\n",
    "\n",
    "# Berechnung der ELB-Quote nach Schulabschluss (%)\n",
    "stacked_elb_schul[\"ELB-Quote (%)\"] = (stacked_elb_schul[\"Anzahl\"] / stacked_elb_schul[\"arbeitsuchende_elb_insgesamt\"]) * 100"
   ]
  },
  {
   "cell_type": "code",
   "execution_count": 18,
   "metadata": {},
   "outputs": [],
   "source": [
    "# BA-Daten enthalten Zeilen, in denen arbeitsuchende ELB = 0 ist; daher entsprechende Zeilen entfernen, um Teilen durch 0 bei der Berechnung der Quote zu verhindern\n",
    "stacked_elb_beruf = stacked_elb_beruf[stacked_elb_beruf.arbeitsuchende_elb_insgesamt != 0]\n",
    "\n",
    "# Berechnung der ELB-Quote nach Berufsausbildung (%)\n",
    "stacked_elb_beruf[\"ELB-Quote (%)\"] = (stacked_elb_beruf[\"Anzahl\"] / stacked_elb_beruf[\"arbeitsuchende_elb_insgesamt\"]) * 100"
   ]
  },
  {
   "cell_type": "markdown",
   "metadata": {},
   "source": [
    "### 3.7 Problem unplausibler Werte beheben"
   ]
  },
  {
   "cell_type": "markdown",
   "metadata": {},
   "source": [
    "### Grund fuer unplausible Werte:\n",
    "\n",
    "- Ueberschaetzung der SGB2-Quote aufgrund unterschiedlicher Datenstruktur: \n",
    "    - Bei Bevoelkerungsdaten handelt es sich um Stichtagsdaten (31.12.), bei BA-Daten um Jahresdurchschnittswerte\n",
    "    - Dies kann grundsaetzlich zu einer Ueberschaetzung der (gruppenspezifischen) SGB2-Quoten fuehren\n",
    "    - In wenigen Faellen (0,04 %) ist die Anzahl der Leistungsbezieher aufgrund dieser Datenstruktur in einer bestimmten Gruppe (nach Geschlecht, Alter, Jahr, Gemeinde) hoeher als die Anzahl der Bevoelkerung in der jeweiligen Gruppe (z. B. 3 Leistungsbezieher, aber nur eine Person in den Bevoelkerungsdaten)\n",
    "    - Vorgehen: Ausschluss von Quoten > 100%"
   ]
  },
  {
   "cell_type": "code",
   "execution_count": 19,
   "metadata": {},
   "outputs": [],
   "source": [
    "# Faelle entfernen, bei denen SGB2-Quote > 100% ist\n",
    "stacked_lb_bev = stacked_lb_bev[stacked_lb_bev['SGB2-Quote (%)'] <= 100].reset_index(drop=True)"
   ]
  },
  {
   "cell_type": "markdown",
   "metadata": {},
   "source": [
    "### 3.8 Datenreihen mit Bezugsgroesse <= 70 entfernen"
   ]
  },
  {
   "cell_type": "code",
   "execution_count": 20,
   "metadata": {},
   "outputs": [],
   "source": [
    "# Datensaetze erstellen\n",
    "stacked_lb_bev_ue70 = stacked_lb_bev[stacked_lb_bev.Anzahl_Bevoelkerung > 70]\n",
    "stacked_elb_schul_ue70 = stacked_elb_schul[stacked_elb_schul.arbeitsuchende_elb_insgesamt > 70]\n",
    "stacked_elb_beruf_ue70 = stacked_elb_beruf[stacked_elb_beruf.arbeitsuchende_elb_insgesamt > 70]"
   ]
  },
  {
   "cell_type": "code",
   "execution_count": 21,
   "metadata": {},
   "outputs": [
    {
     "name": "stdout",
     "output_type": "stream",
     "text": [
      "In der Tabelle 'stacked_elb_beruf' wurden 247296 Datenpunkte entfernt. Es sind noch 27.99021606196494 % der Ausgangswerte enthalten.\n",
      "In der Tabelle 'stacked_elb_schul' wurden 370944 Datenpunkte entfernt. Es sind noch 27.99021606196494 % der Ausgangswerte enthalten.\n",
      "In der Tabelle 'stacked_lb_bev' wurden 117151 Datenpunkte entfernt. Es sind noch 66.4475681496629 % der Ausgangswerte enthalten.\n"
     ]
    }
   ],
   "source": [
    "# Berechnen, welcher Anteil der Datenpunkte entfernt wurde\n",
    "num_rows_stacked_elb_beruf = stacked_elb_beruf.shape[0]\n",
    "num_rows_stacked_elb_schul = stacked_elb_schul.shape[0]\n",
    "num_rows_stacked_lb_bev = stacked_lb_bev.shape[0]\n",
    "\n",
    "num_rows_stacked_elb_beruf_ue70 = stacked_elb_beruf_ue70.shape[0]\n",
    "num_rows_stacked_elb_schul_ue70 = stacked_elb_schul_ue70.shape[0]\n",
    "num_rows_stacked_lb_bev_ue70 = stacked_lb_bev_ue70.shape[0]\n",
    "\n",
    "diff1 = num_rows_stacked_elb_beruf - num_rows_stacked_elb_beruf_ue70\n",
    "diff2 = num_rows_stacked_elb_schul - num_rows_stacked_elb_schul_ue70\n",
    "diff3 = num_rows_stacked_lb_bev - num_rows_stacked_lb_bev_ue70\n",
    "\n",
    "remaining1 = num_rows_stacked_elb_beruf_ue70/num_rows_stacked_elb_beruf*100\n",
    "remaining2 = num_rows_stacked_elb_schul_ue70/num_rows_stacked_elb_schul*100\n",
    "remaining3 = num_rows_stacked_lb_bev_ue70/num_rows_stacked_lb_bev*100\n",
    "\n",
    "print(\"In der Tabelle 'stacked_elb_beruf' wurden\", diff1, \"Datenpunkte entfernt. Es sind noch\", remaining1, \"% der Ausgangswerte enthalten.\" )\n",
    "print(\"In der Tabelle 'stacked_elb_schul' wurden\", diff2, \"Datenpunkte entfernt. Es sind noch\", remaining2, \"% der Ausgangswerte enthalten.\" )\n",
    "print(\"In der Tabelle 'stacked_lb_bev' wurden\", diff3, \"Datenpunkte entfernt. Es sind noch\", remaining3, \"% der Ausgangswerte enthalten.\" )"
   ]
  },
  {
   "cell_type": "markdown",
   "metadata": {},
   "source": [
    "### 3.9 Moegliche Klassen bzw. Container (\"bins\") fuer die Darstellung der Daten auf eingefaerbter Karte pruefen"
   ]
  },
  {
   "cell_type": "markdown",
   "metadata": {},
   "source": [
    "__Quantile-Methode__: Bei dieser Methode werden die Bins so gewaehlt, dass jedes Intervall die gleiche Anzahl von Datenpunkten enthaelt. Dies sorgt zwar fuer eine gleichmaessige Verteilung der Farben auf der Karte, allerdings koennen kleine Unterschiede in den Daten zu grossen Unterschieden in den Bins fuehren, wenn die Daten eng beieinander liegen."
   ]
  },
  {
   "cell_type": "code",
   "execution_count": 22,
   "metadata": {},
   "outputs": [
    {
     "data": {
      "image/png": "[encoded data removed]",
      "text/plain": [
       "<Figure size 432x288 with 1 Axes>"
      ]
     },
     "metadata": {
      "needs_background": "light"
     },
     "output_type": "display_data"
    },
    {
     "name": "stdout",
     "output_type": "stream",
     "text": [
      "Bin 1: 0.00-1.87, Anzahl: 46402\n",
      "Bin 2: 1.87-3.39, Anzahl: 46401\n",
      "Bin 3: 3.39-5.41, Anzahl: 46401\n",
      "Bin 4: 5.41-9.00, Anzahl: 46401\n",
      "Bin 5: 9.00-55.36, Anzahl: 46401\n"
     ]
    }
   ],
   "source": [
    "# Anzahl der Bins\n",
    "num_bins = 5\n",
    "\n",
    "# Quantile berechnen\n",
    "quantiles = np.linspace(0, 1, num_bins + 1)\n",
    "bin_edges = np.quantile(stacked_lb_bev_ue70['SGB2-Quote (%)'], quantiles)\n",
    "\n",
    "# Histogramm erstellen\n",
    "plt.hist(stacked_lb_bev_ue70['SGB2-Quote (%)'], bins=bin_edges, edgecolor='black', color='lightblue', alpha=0.6)\n",
    "plt.xlabel('SGB2-Quote (%)')\n",
    "plt.ylabel('Anzahl')\n",
    "plt.title('Quantile-Bins')\n",
    "plt.show()\n",
    "\n",
    "# Bins und Anzahl der Werte ausgeben\n",
    "for i in range(num_bins):\n",
    "    bin_range = f'{bin_edges[i]:.2f}-{bin_edges[i+1]:.2f}'\n",
    "    count = ((stacked_lb_bev_ue70['SGB2-Quote (%)'] >= bin_edges[i]) & (stacked_lb_bev_ue70['SGB2-Quote (%)'] < bin_edges[i+1])).sum()\n",
    "    print(f'Bin {i+1}: {bin_range}, Anzahl: {count}')"
   ]
  },
  {
   "cell_type": "markdown",
   "metadata": {},
   "source": [
    "__Gleichmaessige Intervalle__: Hierbei wird der gesamte Bereich der Daten in gleich grosse Intervalle unterteilt. Diese Einteilung ist leicht verstaendlich, kann jedoch dazu fuehren, dass viele Datenpunkte in ein oder zwei Bins fallen, wenn die Daten stark ungleich verteilt sind."
   ]
  },
  {
   "cell_type": "code",
   "execution_count": 23,
   "metadata": {},
   "outputs": [
    {
     "data": {
      "image/png": "[encoded data removed]",
      "text/plain": [
       "<Figure size 432x288 with 1 Axes>"
      ]
     },
     "metadata": {
      "needs_background": "light"
     },
     "output_type": "display_data"
    },
    {
     "name": "stdout",
     "output_type": "stream",
     "text": [
      "Bin 1: 0.00-11.07, Anzahl: 200306\n",
      "Bin 2: 11.07-22.14, Anzahl: 27002\n",
      "Bin 3: 22.14-33.21, Anzahl: 4290\n",
      "Bin 4: 33.21-44.29, Anzahl: 388\n",
      "Bin 5: 44.29-55.36, Anzahl: 20\n"
     ]
    }
   ],
   "source": [
    "# Anzahl der Bins\n",
    "num_bins = 5\n",
    "\n",
    "# Gleichmaessige Intervalle berechnen\n",
    "bin_edges = np.linspace(stacked_lb_bev_ue70['SGB2-Quote (%)'].min(), stacked_lb_bev_ue70['SGB2-Quote (%)'].max(), num_bins + 1)\n",
    "\n",
    "# Histogramm erstellen\n",
    "plt.hist(stacked_lb_bev_ue70['SGB2-Quote (%)'], bins=bin_edges, edgecolor='black', color='lightblue', alpha=0.6)\n",
    "plt.xlabel('SGB2-Quote (%)')\n",
    "plt.ylabel('Anzahl')\n",
    "plt.title('Gleichmaessige-Intervalle-Bins')\n",
    "plt.show()\n",
    "\n",
    "# Bins und Anzahl der Werte ausgeben\n",
    "for i in range(num_bins):\n",
    "    bin_range = f'{bin_edges[i]:.2f}-{bin_edges[i+1]:.2f}'\n",
    "    count = ((stacked_lb_bev_ue70['SGB2-Quote (%)'] >= bin_edges[i]) & (stacked_lb_bev_ue70['SGB2-Quote (%)'] < bin_edges[i+1])).sum()\n",
    "    print(f'Bin {i+1}: {bin_range}, Anzahl: {count}')"
   ]
  },
  {
   "cell_type": "markdown",
   "metadata": {},
   "source": [
    "__Standardabweichung__: Hierbei werden Bins basierend auf der statistischen Standardabweichung der Daten erstellt. Dies kann hilfreich sein, um zu sehen, welche Datenpunkte signifikant vom Durchschnitt abweichen."
   ]
  },
  {
   "cell_type": "code",
   "execution_count": 24,
   "metadata": {},
   "outputs": [
    {
     "data": {
      "image/png": "[encoded data removed]",
      "text/plain": [
       "<Figure size 432x288 with 1 Axes>"
      ]
     },
     "metadata": {
      "needs_background": "light"
     },
     "output_type": "display_data"
    },
    {
     "name": "stdout",
     "output_type": "stream",
     "text": [
      "Bin 1: -4.85-0.53, Anzahl: 9102\n",
      "Bin 2: 0.53-5.91, Anzahl: 139068\n",
      "Bin 3: 5.91-11.29, Anzahl: 53370\n",
      "Bin 4: 11.29-16.68, Anzahl: 18351\n",
      "Bin 5: 16.68-55.36, Anzahl: 12115\n"
     ]
    }
   ],
   "source": [
    "# Anzahl der Bins\n",
    "num_bins = 5\n",
    "\n",
    "# Standardabweichung berechnen\n",
    "mean = stacked_lb_bev_ue70['SGB2-Quote (%)'].mean()\n",
    "std = stacked_lb_bev_ue70['SGB2-Quote (%)'].std()\n",
    "bin_edges = [mean - 2*std, mean - std, mean, mean + std, mean + 2*std, stacked_lb_bev_ue70['SGB2-Quote (%)'].max()]\n",
    "\n",
    "# Histogramm erstellen\n",
    "plt.hist(stacked_lb_bev_ue70['SGB2-Quote (%)'], bins=bin_edges, edgecolor='black', color='lightblue', alpha=0.6)\n",
    "plt.xlabel('SGB2-Quote (%)')\n",
    "plt.ylabel('Anzahl')\n",
    "plt.title('Standardabweichung-Bins')\n",
    "plt.show()\n",
    "\n",
    "# Bins und Anzahl der Werte ausgeben\n",
    "for i in range(len(bin_edges)-1):\n",
    "    bin_range = f'{bin_edges[i]:.2f}-{bin_edges[i+1]:.2f}'\n",
    "    count = ((stacked_lb_bev_ue70['SGB2-Quote (%)'] >= bin_edges[i]) & (stacked_lb_bev_ue70['SGB2-Quote (%)'] < bin_edges[i+1])).sum()\n",
    "    print(f'Bin {i+1}: {bin_range}, Anzahl: {count}')"
   ]
  },
  {
   "cell_type": "markdown",
   "metadata": {},
   "source": [
    "__Benutzerdefinierte Bins__:  Hier kann der Benutzer die Bins manuell festlegen, auf Grundlage seines Wissens ueber die Struktur der Daten, fachlicher Erwaegungen, seiner Anforderungen an die Visualisierung etc."
   ]
  },
  {
   "cell_type": "code",
   "execution_count": 25,
   "metadata": {},
   "outputs": [
    {
     "data": {
      "image/png": "[encoded data removed]",
      "text/plain": [
       "<Figure size 432x288 with 1 Axes>"
      ]
     },
     "metadata": {
      "needs_background": "light"
     },
     "output_type": "display_data"
    },
    {
     "name": "stdout",
     "output_type": "stream",
     "text": [
      "Bin 1: 0-2, Anzahl: 50611\n",
      "Bin 2: 2-7, Anzahl: 113798\n",
      "Bin 3: 7-15, Anzahl: 51473\n",
      "Bin 4: 15-30, Anzahl: 15173\n",
      "Bin 5: 30-45, Anzahl: 932\n",
      "Bin 6: 45-100, Anzahl: 20\n"
     ]
    }
   ],
   "source": [
    "# Benutzerdefinierte Bins festlegen\n",
    "custom_bins = [0, 2, 7, 15, 30, 45, 100]\n",
    "\n",
    "# Histogramm erstellen\n",
    "plt.hist(stacked_lb_bev_ue70['SGB2-Quote (%)'], bins=custom_bins, edgecolor='black', color='lightblue', alpha=0.6)\n",
    "plt.xlabel('SGB2-Quote (%)')\n",
    "plt.ylabel('Anzahl')\n",
    "plt.title('Benutzerdefinierte Bins')\n",
    "plt.show()\n",
    "\n",
    "# Bins und Anzahl der Werte ausgeben\n",
    "for i in range(len(custom_bins)-1):\n",
    "    bin_range = f'{custom_bins[i]}-{custom_bins[i+1]}'\n",
    "    count = ((stacked_lb_bev_ue70['SGB2-Quote (%)'] >= custom_bins[i]) & (stacked_lb_bev_ue70['SGB2-Quote (%)'] < custom_bins[i+1])).sum()\n",
    "    print(f'Bin {i+1}: {bin_range}, Anzahl: {count}')"
   ]
  },
  {
   "cell_type": "markdown",
   "metadata": {},
   "source": [
    "__Natural-Breaks-Bins__: Die Methode Natural Breaks klassifiziert die Datenpunkte in Klassen basierend auf natuerlichen Gruppen in den Daten selbst. Sie versucht, die Varianz innerhalb der Gruppen zu minimieren und die Varianz zwischen den Gruppen zu maximieren."
   ]
  },
  {
   "cell_type": "code",
   "execution_count": 26,
   "metadata": {},
   "outputs": [
    {
     "data": {
      "image/png": "[encoded data removed]",
      "text/plain": [
       "<Figure size 432x288 with 1 Axes>"
      ]
     },
     "metadata": {
      "needs_background": "light"
     },
     "output_type": "display_data"
    },
    {
     "name": "stdout",
     "output_type": "stream",
     "text": [
      "Bin 1: 0.0-3.1041666666666674, Anzahl: 81711\n",
      "Bin 2: 3.1041666666666674-6.24296719466806, Anzahl: 68710\n",
      "Bin 3: 6.24296719466806-10.234121464997676, Anzahl: 41632\n",
      "Bin 4: 10.234121464997676-15.615862573099406, Anzahl: 22337\n",
      "Bin 5: 15.615862573099406-23.42105263157895, Anzahl: 10809\n",
      "Bin 6: 23.42105263157895-55.35714285714286, Anzahl: 3736\n"
     ]
    }
   ],
   "source": [
    "# Extrahieren der Werte aus der Spalte 'SGB2-Quote (%)'\n",
    "data = stacked_lb_bev_ue70['SGB2-Quote (%)'].values\n",
    "\n",
    "# Berechnen der Bins mit der NaturalBreaks-Methode\n",
    "classifier = NaturalBreaks(data, k=6)\n",
    "breaks = classifier.bins\n",
    "breaks = np.insert(breaks, 0, 0)\n",
    "\n",
    "# Erstellen des Histogramms\n",
    "plt.hist(data, bins=breaks, edgecolor='black', color='lightblue', alpha=0.6)\n",
    "plt.xlabel('SGB2-Quote (%)')\n",
    "plt.ylabel('Anzahl')\n",
    "plt.title('Natural-Breaks Bins')\n",
    "plt.show()\n",
    "\n",
    "# Ausgabe der Bin-Ranges und der Anzahl der Werte in jedem Bin\n",
    "for i in range(len(breaks)-1):\n",
    "    print(f\"Bin {i+1}: {breaks[i]}-{breaks[i+1]}, Anzahl: {((data > breaks[i]) & (data <= breaks[i+1])).sum()}\")"
   ]
  },
  {
   "cell_type": "markdown",
   "metadata": {},
   "source": [
    "__FisherJenks_ bzw. FisherJenksSampled__: Aehnlich wie Natural Breaks, jedoch spezialisiert auf die Anwendung auf eindimensionale Daten; sorgt im Vergleich zu aehnlichen Methoden für geringere Abweichungen der Datenpunkte um den jeweiligen Klassen-Median. Bei der \"Sampled\"-Variante (sinnvoll bei sehr grossen Datenmengen) werden nicht alle Datenpunkte, sondern eine Stichprobe (z. B. 20 % der Faelle) zur Ermittlung der Klassengrenzen beruecksichtigt. "
   ]
  },
  {
   "cell_type": "code",
   "execution_count": 27,
   "metadata": {},
   "outputs": [
    {
     "data": {
      "image/png": "[encoded data removed]",
      "text/plain": [
       "<Figure size 432x288 with 1 Axes>"
      ]
     },
     "metadata": {
      "needs_background": "light"
     },
     "output_type": "display_data"
    },
    {
     "name": "stdout",
     "output_type": "stream",
     "text": [
      "Bin 1: 0.0-3.315412186379925, Anzahl: 87777\n",
      "Bin 2: 3.315412186379925-6.88622754491018, Anzahl: 72069\n",
      "Bin 3: 6.88622754491018-11.683848797250857, Anzahl: 40679\n",
      "Bin 4: 11.683848797250857-19.027671997969005, Anzahl: 20261\n",
      "Bin 5: 19.027671997969005-29.79302832244011, Anzahl: 7150\n",
      "Bin 6: 29.79302832244011-55.35714285714286, Anzahl: 999\n"
     ]
    }
   ],
   "source": [
    "# Extrahieren der Werte aus der Spalte 'SGB2-Quote (%)'\n",
    "data = stacked_lb_bev_ue70['SGB2-Quote (%)'].values\n",
    "\n",
    "# Berechnen der Bins mit der FisherJenksSampled-Methode\n",
    "classifier = FisherJenksSampled(data, pct=0.2, k=6)\n",
    "bins = classifier.bins\n",
    "bins = np.insert(bins, 0, 0)\n",
    "\n",
    "# Erstellen des Histogramms\n",
    "plt.hist(data, bins=bins, edgecolor='black', color='lightblue', alpha=0.6)\n",
    "plt.xlabel('SGB2-Quote (%)')\n",
    "plt.ylabel('Anzahl')\n",
    "plt.title('FisherJenksSampled Bins')\n",
    "plt.show()\n",
    "\n",
    "# Ausgabe der Bin-Ranges und der Anzahl der Werte in jedem Bin\n",
    "for i in range(len(bins)-1):\n",
    "    print(f\"Bin {i+1}: {bins[i]}-{bins[i+1]}, Anzahl: {((data > bins[i]) & (data <= bins[i+1])).sum()}\")"
   ]
  },
  {
   "cell_type": "markdown",
   "metadata": {},
   "source": [
    "### 3.10 Bins fuer 2021 auf Gemeindeebene mit FisherJenks-Methode ermitteln"
   ]
  },
  {
   "cell_type": "code",
   "execution_count": 28,
   "metadata": {},
   "outputs": [
    {
     "data": {
      "image/png": "[encoded data removed]",
      "text/plain": [
       "<Figure size 432x288 with 1 Axes>"
      ]
     },
     "metadata": {
      "needs_background": "light"
     },
     "output_type": "display_data"
    },
    {
     "name": "stdout",
     "output_type": "stream",
     "text": [
      "Bin 1: 0.0-2.2687609075043627, Anzahl: 3605\n",
      "Bin 2: 2.2687609075043627-4.316830641342665, Anzahl: 3372\n",
      "Bin 3: 4.316830641342665-7.139265962795376, Anzahl: 1954\n",
      "Bin 4: 7.139265962795376-11.538461538461549, Anzahl: 824\n",
      "Bin 5: 11.538461538461549-39.1173245614034, Anzahl: 325\n"
     ]
    }
   ],
   "source": [
    "# Daten bereinigen, sodass zusammengefasste SGB2-Quote auf Gemeindeebene fuer das Jahr 2021 verbleibt\n",
    "data2021_fisher_jenks = stacked_lb_bev_ue70\n",
    "data2021_fisher_jenks = data2021_fisher_jenks[data2021_fisher_jenks.Jahr == 2021]\n",
    "data2021_fisher_jenks['LB_Gesamt'] = data2021_fisher_jenks.groupby('Gemeinde')['Anzahl_LB'].transform('sum')\n",
    "data2021_fisher_jenks['Bev_Gesamt'] = data2021_fisher_jenks.groupby('Gemeinde')['Anzahl_Bevoelkerung'].transform('sum')\n",
    "data2021_fisher_jenks[\"SGB2-Quote (%) gesamt\"] = (data2021_fisher_jenks[\"LB_Gesamt\"] / data2021_fisher_jenks[\"Bev_Gesamt\"]) * 100\n",
    "data2021_fisher_jenks = data2021_fisher_jenks[['Gemeinde', 'SGB2-Quote (%) gesamt']]\n",
    "data2021_fisher_jenks = data2021_fisher_jenks.drop_duplicates()\n",
    "\n",
    "# Extrahieren der Werte aus der Spalte 'SGB2-Quote (%) gesamt'\n",
    "data = data2021_fisher_jenks['SGB2-Quote (%) gesamt'].values\n",
    "\n",
    "# Berechnen der Bins mit der FisherJenks-Methode\n",
    "classifier = FisherJenks(data, k=5)\n",
    "bins = classifier.bins\n",
    "bins = np.insert(bins, 0, 0)\n",
    "\n",
    "# Erstellen des Histogramms\n",
    "plt.hist(data, bins=bins, edgecolor='black', color='lightblue', alpha=0.6)\n",
    "plt.xlabel('SGB2-Quote (%)')\n",
    "plt.ylabel('Anzahl')\n",
    "plt.title('FisherJenks Bins')\n",
    "plt.show()\n",
    "\n",
    "# Ausgabe der Bin-Ranges und der Anzahl der Werte in jedem Bin\n",
    "for i in range(len(bins)-1):\n",
    "    print(f\"Bin {i+1}: {bins[i]}-{bins[i+1]}, Anzahl: {((data > bins[i]) & (data <= bins[i+1])).sum()}\")"
   ]
  },
  {
   "cell_type": "markdown",
   "metadata": {},
   "source": [
    "### 3.11 Problem beheben, das durch 7-stellige AGS entsteht"
   ]
  },
  {
   "cell_type": "code",
   "execution_count": 29,
   "metadata": {},
   "outputs": [],
   "source": [
    "# Spalte \"AGS\" als String definieren\n",
    "stacked_lb_bev_ue70[\"AGS\"] = stacked_lb_bev_ue70[\"AGS\"].astype(str)\n",
    "\n",
    "# \"0\" vor den Eintraegen mit genau 7 Zeichen hinzufuegen\n",
    "stacked_lb_bev_ue70[\"AGS\"] = stacked_lb_bev_ue70[\"AGS\"].apply(lambda x: '0' + x if len(x) == 7 else x)"
   ]
  },
  {
   "cell_type": "markdown",
   "metadata": {},
   "source": [
    "### 3.12 AGS fuer Kreisebene ergaenzen"
   ]
  },
  {
   "cell_type": "code",
   "execution_count": 30,
   "metadata": {},
   "outputs": [],
   "source": [
    "stacked_lb_bev_ue70['AGS_Kreis'] = stacked_lb_bev_ue70['AGS'].str[:5]"
   ]
  },
  {
   "cell_type": "markdown",
   "metadata": {},
   "source": [
    "### 3.13 AGS fuer Bundesland ergaenzen"
   ]
  },
  {
   "cell_type": "code",
   "execution_count": 31,
   "metadata": {},
   "outputs": [],
   "source": [
    "stacked_lb_bev_ue70['AGS_BL'] = stacked_lb_bev_ue70['AGS'].str[:2]"
   ]
  },
  {
   "cell_type": "markdown",
   "metadata": {},
   "source": [
    "### 4. Tabellen exportieren als Excel und CSV"
   ]
  },
  {
   "cell_type": "code",
   "execution_count": 32,
   "metadata": {},
   "outputs": [],
   "source": [
    "# DataFrame stacked_elb_schul speichern\n",
    "stacked_elb_schul_ue70.to_excel('elb_quote_schul_ue70.xlsx', index=False)\n",
    "stacked_elb_schul_ue70.to_csv('elb_quote_schul_ue70.csv', index=False)\n",
    "\n",
    "# DataFrame stacked_elb_beruf speichern\n",
    "stacked_elb_beruf_ue70.to_excel('elb_quote_beruf_ue70.xlsx', index=False)\n",
    "stacked_elb_beruf_ue70.to_csv('elb_quote_beruf_ue70.csv', index=False)\n",
    "\n",
    "# DataFrame stacked_lb_bev speichern\n",
    "stacked_lb_bev_ue70.to_excel('sgb2_quote_ue70.xlsx', index=False)\n",
    "stacked_lb_bev_ue70.to_csv('sgb2_quote_ue70.csv', index=False)"
   ]
  },
  {
   "cell_type": "code",
   "execution_count": null,
   "metadata": {},
   "outputs": [],
   "source": []
  }
 ],
 "metadata": {
  "kernelspec": {
   "display_name": "Python 3 (ipykernel)",
   "language": "python",
   "name": "python3"
  },
  "language_info": {
   "codemirror_mode": {
    "name": "ipython",
    "version": 3
   },
   "file_extension": ".py",
   "mimetype": "text/x-python",
   "name": "python",
   "nbconvert_exporter": "python",
   "pygments_lexer": "ipython3",
   "version": "3.9.12"
  },
  "varInspector": {
   "cols": {
    "lenName": 16,
    "lenType": 16,
    "lenVar": 40
   },
   "kernels_config": {
    "python": {
     "delete_cmd_postfix": "",
     "delete_cmd_prefix": "del ",
     "library": "var_list.py",
     "varRefreshCmd": "print(var_dic_list())"
    },
    "r": {
     "delete_cmd_postfix": ") ",
     "delete_cmd_prefix": "rm(",
     "library": "var_list.r",
     "varRefreshCmd": "cat(var_dic_list()) "
    }
   },
   "types_to_exclude": [
    "module",
    "function",
    "builtin_function_or_method",
    "instance",
    "_Feature"
   ],
   "window_display": false
  }
 },
 "nbformat": 4,
 "nbformat_minor": 4
}
