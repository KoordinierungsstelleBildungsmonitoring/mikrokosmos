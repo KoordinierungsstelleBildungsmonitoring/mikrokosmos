{
  "cells": [
    {
      "cell_type": "markdown",
      "metadata": {
        "id": "ZcLby2NfvREx"
      },
      "source": [
        "# A. Informationen zum Notebook"
      ]
    },
    {
      "cell_type": "markdown",
      "metadata": {
        "id": "z5nWMDuEvREy"
      },
      "source": [
        "<p>Herausgeber:  Tobias Vetterle, André Förster, Anna Hinzen, Fachstelle kommunales Bildungsmonitoring (KOSMO)</p>\n",
        "<p>Version: 3.0.2 (23.05.2024)<p/>\n",
        "\n",
        "<p>Dieses Notebook dient dazu, Gemeindedaten der Bundesagentur fuer Arbeit (BA) mit Bevoelkerungsdaten des Statistischen Bundesamtes (Destatis) aus den Jahren 2014 bis 2021 zu verknuepfen, um daraus die Entwicklung gemeindespezifischer SGB II-Quoten berechnen und klassifiziert auf einem Dashboard abbilden zu koennen. Hierbei wird auf folgende Originaldaten der BA und von Destatis zugegriffen, die von den entsprechenden Stellen bezogen werden koennen: </p>\n",
        "\n",
        "- Statistik der Bundesagentur fuer Arbeit, Auftragsnummer 338634, Teil 1-5 (Eckwerte der Grundsicherung nach Gemeinden, Gebietsstand Dezember des jeweiligen Jahres, Jahresdurchschnittswerte, Datenstand: Maerz 2023, Daten zu Leistungen nach dem SGB II nach einer Wartezeit von 3 Monaten)\n",
        "- Statistisches Bundesamt (Destatis), Bevoelkerungszahlen auf Gemeindeebene nach Geschlecht und Alter (Fortschreibung Zensus 2011, Stichtagsdaten zum 31.12. fuer Gebietsstand und Bevoelkerungszahl des jeweiligen Berichtsjahres (2014-2021))\n",
        "\n",
        "Um die Aufbereitung der Daten korrekt durchfuehren zu koennen, muessen diese Notebook-Datei (.ipynb) sowie die Originaldaten bzw. -dateien der BA und von Destatis in einem lokalen Ordner gespeichert werden."
      ]
    },
    {
      "cell_type": "markdown",
      "metadata": {
        "id": "ELjfUK3mvREy"
      },
      "source": [
        "# 0. Vorbereitung der Daten"
      ]
    },
    {
      "cell_type": "code",
      "execution_count": 1,
      "metadata": {
        "colab": {
          "base_uri": "https://localhost:8080/",
          "height": 397
        },
        "id": "oa2LzhDPvREz",
        "outputId": "d575e1d6-5de3-4abf-87f2-6a9b24673757"
      },
      "outputs": [
        {
          "output_type": "error",
          "ename": "ModuleNotFoundError",
          "evalue": "No module named 'mapclassify'",
          "traceback": [
            "\u001b[0;31m---------------------------------------------------------------------------\u001b[0m",
            "\u001b[0;31mModuleNotFoundError\u001b[0m                       Traceback (most recent call last)",
            "\u001b[0;32m/tmp/ipython-input-1-3378452989.py\u001b[0m in \u001b[0;36m<cell line: 0>\u001b[0;34m()\u001b[0m\n\u001b[1;32m      9\u001b[0m \u001b[0;34m\u001b[0m\u001b[0m\n\u001b[1;32m     10\u001b[0m \u001b[0;31m# Hinweis: die folgende Bibliothek muss manuell installiert werden\u001b[0m\u001b[0;34m\u001b[0m\u001b[0;34m\u001b[0m\u001b[0m\n\u001b[0;32m---> 11\u001b[0;31m \u001b[0;32mfrom\u001b[0m \u001b[0mmapclassify\u001b[0m \u001b[0;32mimport\u001b[0m \u001b[0mNaturalBreaks\u001b[0m\u001b[0;34m\u001b[0m\u001b[0;34m\u001b[0m\u001b[0m\n\u001b[0m\u001b[1;32m     12\u001b[0m \u001b[0;32mfrom\u001b[0m \u001b[0mmapclassify\u001b[0m \u001b[0;32mimport\u001b[0m \u001b[0mFisherJenksSampled\u001b[0m\u001b[0;34m\u001b[0m\u001b[0;34m\u001b[0m\u001b[0m\n\u001b[1;32m     13\u001b[0m \u001b[0;32mfrom\u001b[0m \u001b[0mmapclassify\u001b[0m \u001b[0;32mimport\u001b[0m \u001b[0mFisherJenks\u001b[0m\u001b[0;34m\u001b[0m\u001b[0;34m\u001b[0m\u001b[0m\n",
            "\u001b[0;31mModuleNotFoundError\u001b[0m: No module named 'mapclassify'",
            "",
            "\u001b[0;31m---------------------------------------------------------------------------\u001b[0;32m\nNOTE: If your import is failing due to a missing package, you can\nmanually install dependencies using either !pip or !apt.\n\nTo view examples of installing some common dependencies, click the\n\"Open Examples\" button below.\n\u001b[0;31m---------------------------------------------------------------------------\u001b[0m\n"
          ],
          "errorDetails": {
            "actions": [
              {
                "action": "open_url",
                "actionText": "Open Examples",
                "url": "/notebooks/snippets/importing_libraries.ipynb"
              }
            ]
          }
        }
      ],
      "source": [
        "# Benoetigte Pakete importieren\n",
        "import pandas as pd\n",
        "import os\n",
        "import glob\n",
        "import seaborn as sns\n",
        "import matplotlib.pyplot as plt\n",
        "import numpy as np\n",
        "import locale\n",
        "\n",
        "# Hinweis: die folgende Bibliothek muss manuell installiert werden\n",
        "from mapclassify import NaturalBreaks\n",
        "from mapclassify import FisherJenksSampled\n",
        "from mapclassify import FisherJenks\n",
        "\n",
        "# Warnmeldungen unterdruecken\n",
        "import warnings\n",
        "warnings.filterwarnings('ignore')"
      ]
    },
    {
      "cell_type": "code",
      "execution_count": null,
      "metadata": {
        "id": "5ik8DVJDvREz"
      },
      "outputs": [],
      "source": [
        "# Begrenzung der Spaltendarstellung deaktivieren\n",
        "pd.set_option(\"display.max_columns\", None)"
      ]
    },
    {
      "cell_type": "code",
      "execution_count": null,
      "metadata": {
        "id": "C4H_-HixvREz"
      },
      "outputs": [],
      "source": [
        "# Einlesen der Gemeindedaten der Bundesagentur fuer Arbeit (BA) aus den Jahren 2014 bis 2021\n",
        "# Dateinamen und Tabellennamen abrufen\n",
        "file_names = [\n",
        "    (\"230328_EA_338634_Gemeindedaten_Teil1.xlsx\", \"2014\"),\n",
        "    (\"230328_EA_338634_Gemeindedaten_Teil2.xlsx\", \"2015\"),\n",
        "    (\"230328_EA_338634_Gemeindedaten_Teil2.xlsx\", \"2016\"),\n",
        "    (\"230328_EA_338634_Gemeindedaten_Teil3.xlsx\", \"2017\"),\n",
        "    (\"230328_EA_338634_Gemeindedaten_Teil3.xlsx\", \"2018\"),\n",
        "    (\"230328_EA_338634_Gemeindedaten_Teil4.xlsx\", \"2019\"),\n",
        "    (\"230328_EA_338634_Gemeindedaten_Teil4.xlsx\", \"2020\"),\n",
        "    (\"230328_EA_338634_Gemeindedaten_Teil5.xlsx\", \"2021\")\n",
        "]\n",
        "\n",
        "# Dictionary fuer die Dataframes erstellen\n",
        "dataframes = {}\n",
        "\n",
        "# Ueber Dateien und Tabellennamen iterieren\n",
        "for file_name, sheet_name in file_names:\n",
        "    # Spezifisches Tabellenblatt in einen DataFrame einlesen\n",
        "    df = pd.read_excel(file_name, sheet_name=sheet_name)\n",
        "    # DataFrame im Dictionary speichern\n",
        "    dataframes[\"ba_\" + sheet_name] = df\n",
        "\n",
        "# Zugriff auf die Dataframes\n",
        "ba_2014 = dataframes[\"ba_2014\"]\n",
        "ba_2015 = dataframes[\"ba_2015\"]\n",
        "ba_2016 = dataframes[\"ba_2016\"]\n",
        "ba_2017 = dataframes[\"ba_2017\"]\n",
        "ba_2018 = dataframes[\"ba_2018\"]\n",
        "ba_2019 = dataframes[\"ba_2019\"]\n",
        "ba_2020 = dataframes[\"ba_2020\"]\n",
        "ba_2021 = dataframes[\"ba_2021\"]"
      ]
    },
    {
      "cell_type": "code",
      "execution_count": null,
      "metadata": {
        "id": "DSi__zSlvRE0"
      },
      "outputs": [],
      "source": [
        "# Tabellenkopf bis zum Beginn des Datenbereichs in Zeile 15 anzeigen\n",
        "ba_2021.head(15)"
      ]
    },
    {
      "cell_type": "markdown",
      "metadata": {
        "id": "L_rBaaXlvRE0"
      },
      "source": [
        "# 1. BA-Daten umformen\n",
        "\n",
        "## 1.1 Grundlegende Umformung der Ausgangsdaten"
      ]
    },
    {
      "cell_type": "code",
      "execution_count": null,
      "metadata": {
        "id": "Pc6YUW0nvRE0"
      },
      "outputs": [],
      "source": [
        "# Funktion zur Transformation der Daten definieren\n",
        "def transform_dataframe(df):\n",
        "    # Zeilen 0 bis 7 entfernen\n",
        "    df = df.drop(df.index[0:7])\n",
        "\n",
        "    # Letzte Zeile entfernen\n",
        "    df = df.drop(df.index[-1])\n",
        "\n",
        "    # Spalte 'Unnamed: 0' nach Leerzeichen trennen und in neue Spalten 'AGS' und 'Gemeinde' aufteilen\n",
        "    df[['AGS', 'Gemeinde']] = df['Unnamed: 0'].str.split(' ', 1, expand=True)\n",
        "\n",
        "    # Spalte 'Unnamed: 0' entfernen\n",
        "    df = df.drop(['Unnamed: 0'], axis=1)\n",
        "\n",
        "    # Erstellen einer Kontrollspalte 'Gesamtwerte_Kontrolle' mit den Spalten 'AGS', 'Gemeinde' und 'Unnamed: 1'\n",
        "    Gesamtwerte_Kontrolle = df[['AGS', 'Gemeinde', 'Unnamed: 1']].copy()\n",
        "\n",
        "    # Spalte 'Unnamed: 1' entfernen\n",
        "    df.drop(['Unnamed: 1'], axis=1, inplace=True)\n",
        "\n",
        "    # Nur Spalten ab der 23. Spalte behalten\n",
        "    df = df.iloc[:, 23:]\n",
        "\n",
        "    # Fehlende Werte in Zeile 5 mit den Werten der vorherigen Zeilen fuellen\n",
        "    df.iloc[5] = df.iloc[5].fillna(df.iloc[4])\n",
        "    df.iloc[5] = df.iloc[5].fillna(df.iloc[3])\n",
        "    df.iloc[5] = df.iloc[5].fillna(df.iloc[2])\n",
        "\n",
        "    # Zeilen 7, 9, 10, 11 und 13 entfernen\n",
        "    df = df.drop([7, 9, 10, 11, 13])\n",
        "\n",
        "    # Letzte beiden Werte in Zeile 1 mit den Werten der letzten beiden Spaltennamen fuellen\n",
        "    df.iloc[1, -1] = df.columns[-1]\n",
        "    df.iloc[1, -2] = df.columns[-2]\n",
        "\n",
        "    # Neue Spaltennamen aus Zeile 1 erstellen\n",
        "    new_columns = df.iloc[1].tolist()\n",
        "\n",
        "    # Spaltennamen aktualisieren\n",
        "    df = df.set_axis(new_columns, axis=1, inplace=False)\n",
        "\n",
        "    # Zeile 12 entfernen\n",
        "    df = df.drop(12)\n",
        "\n",
        "    # Transformiertes DataFrame zurueckgeben\n",
        "    return df\n",
        "\n",
        "# Definierte Funktion auf die Daten anwenden und damit Dataframes erstellen\n",
        "ba_2014 = transform_dataframe(ba_2014)\n",
        "ba_2015 = transform_dataframe(ba_2015)\n",
        "ba_2016 = transform_dataframe(ba_2016)\n",
        "ba_2017 = transform_dataframe(ba_2017)\n",
        "ba_2018 = transform_dataframe(ba_2018)\n",
        "ba_2019 = transform_dataframe(ba_2019)\n",
        "ba_2020 = transform_dataframe(ba_2020)\n",
        "ba_2021 = transform_dataframe(ba_2021)"
      ]
    },
    {
      "cell_type": "code",
      "execution_count": null,
      "metadata": {
        "id": "H34JMkRlvRE0"
      },
      "outputs": [],
      "source": [
        "# Tabellenkopf nach der Umformung anzeigen\n",
        "ba_2021.head(2)"
      ]
    },
    {
      "cell_type": "code",
      "execution_count": null,
      "metadata": {
        "id": "2YirQVlYvRE1"
      },
      "outputs": [],
      "source": []
    },
    {
      "cell_type": "markdown",
      "metadata": {
        "id": "CnKJrXjnvRE1"
      },
      "source": [
        "## 1.2 Spalte fuer Geschlecht ergaenzen und Tabelle entsprechend stapeln"
      ]
    },
    {
      "cell_type": "code",
      "execution_count": null,
      "metadata": {
        "id": "BMwpZDaWvRE1"
      },
      "outputs": [],
      "source": [
        "# Funktion zur Transformation der Daten definieren\n",
        "def apply_transformation(df):\n",
        "    # Daten (maennlich) aus den ersten 24 Spalten und den Spalten 48 und 49 extrahieren\n",
        "    df_m = df.iloc[:, list(range(24)) + [48, 49]]\n",
        "\n",
        "    # Daten (weiblich) aus den Spalten 24 bis 49 extrahieren\n",
        "    df_w = df.iloc[:, 24:50]\n",
        "\n",
        "    # Geschlecht fuer Daten (weiblich) auf \"w\" setzen\n",
        "    df_w.loc[:, \"Geschlecht\"] = \"w\"\n",
        "\n",
        "    # Geschlecht fuer Daten (maennlich) auf \"m\" setzen\n",
        "    df_m.loc[:, \"Geschlecht\"] = \"m\"\n",
        "\n",
        "    # Zeile 8 aus Daten (weiblich) entfernen\n",
        "    df_w = df_w.drop([8])\n",
        "\n",
        "    # Zeile 8 aus Daten (maennlich) entfernen\n",
        "    df_m = df_m.drop([8])\n",
        "\n",
        "    # Daten (maennlich und weiblich) zu einem DataFrame kombinieren\n",
        "    combined_df = df_m.append(df_w, ignore_index=True)\n",
        "\n",
        "    # Spalten umbenennen, indem Bindestriche \"-\" entfernt werden\n",
        "    combined_df = combined_df.rename(columns=lambda x: x.replace('-', ''))\n",
        "\n",
        "    return combined_df\n",
        "\n",
        "# Definierte Funktion auf die Daten anwenden und damit Dataframes transformieren\n",
        "ba_2014_combined = apply_transformation(ba_2014)\n",
        "ba_2015_combined = apply_transformation(ba_2015)\n",
        "ba_2016_combined = apply_transformation(ba_2016)\n",
        "ba_2017_combined = apply_transformation(ba_2017)\n",
        "ba_2018_combined = apply_transformation(ba_2018)\n",
        "ba_2019_combined = apply_transformation(ba_2019)\n",
        "ba_2020_combined = apply_transformation(ba_2020)\n",
        "ba_2021_combined = apply_transformation(ba_2021)"
      ]
    },
    {
      "cell_type": "code",
      "execution_count": null,
      "metadata": {
        "id": "nt387ntjvRE1"
      },
      "outputs": [],
      "source": [
        "# Tabellenkopf nach der Umformung anzeigen\n",
        "ba_2021_combined.head(1)"
      ]
    },
    {
      "cell_type": "markdown",
      "metadata": {
        "id": "UZAR1QVTvRE1"
      },
      "source": [
        "## 1.3 Gestapelte Zieltabellen erstellen\n",
        "\n",
        "#### Die Tabelle enthaelt zum jetzigen Zeitpunkt Daten zu den Leistungsberechtigten (LB) nach Geschlecht und Altersgruppen, zu den arbeitsuchenden erwerbsfaehigen Leistungsberechtigten (ELB) nach Geschlecht und Schulabschluessen sowie zu den arbeitsuchenden ELB nach Geschlecht und Berufsausbildung. Wir teilen die Tabelle in drei separate Tabellen zu diesen Kennzahlen auf, um sie im weiteren Verlauf zielgerichtet bearbeiten zu koennen.\n",
        "\n",
        " - Ein Dataframe (DF) mit Leistungsberechtigten (LB) nach Geschlecht und Altersgruppen, das sich auf Anzahl der LB aggregieren laesst\n",
        "     - Spalte \"LB unter 15 Jahren\" loeschen, da aus anderen Spalten summierbar\n",
        "     - Spalte \"LB unter 65 Jahren\" loeschen, da aus anderen Spalten summierbar\n",
        "     - Spalte \"15 bis unter 18 Jahren (Kinder)\" loeschen\n",
        " - Ein DF mit arbeitsuchenden erwerbsfaehigen Leistungsberechtigten (ELB) nach Geschlecht und Schulabschluessen (Unterscheidung Schulabschluesse nur fuer \"arbeitsuchende ELB\" moeglich)\n",
        "     - Spalten 15 - 20 in der Ausgangsdatei\n",
        " - Ein DF mit arbeitsuchenden ELB nach Geschlecht und Berufsausbildung (Unterscheidung Berufsausbildung nur fuer \"arbeitsuchende ELB\" moeglich)\n",
        "     - Spalten 21- 24 in der Ausgangsdatei"
      ]
    },
    {
      "cell_type": "code",
      "execution_count": null,
      "metadata": {
        "id": "28ZbFPQ9vRE1"
      },
      "outputs": [],
      "source": [
        "# Funktion zur Transformation der Daten definieren\n",
        "def apply_transformation(df, year):\n",
        "    # relevante Spalten aus dem kombinierten Dataframe extrahieren\n",
        "    LB_nach_Altersgruppen = df.iloc[:, [3, 4, 5, 6, 7, 8, 24, 25, 26]].copy()\n",
        "\n",
        "    # Datensatz in langes Format umwandeln, indem Altersgruppen in separate Spalte transformiert werden\n",
        "    LB_nach_Altersgruppen = pd.melt(LB_nach_Altersgruppen, id_vars=['AGS', 'Gemeinde', 'Geschlecht'], value_vars=['unter 3 Jahren', '3 bis unter 6 Jahren', '6 bis unter 15 Jahren', '15 bis unter 18 Jahren', '18 bis unter 25 Jahren', '25 bis unter 65 Jahren'], var_name='Altersgruppe', value_name='Anzahl')\n",
        "\n",
        "    # Spalte hinzufuegen, um das Jahr zu speichern\n",
        "    LB_nach_Altersgruppen['Jahr'] = year\n",
        "\n",
        "    # Spalten \"AGS\" und \"Jahr\" in Ganzzahlen umwandeln\n",
        "    LB_nach_Altersgruppen[\"AGS\"] = pd.to_numeric(LB_nach_Altersgruppen[\"AGS\"], downcast=\"integer\")\n",
        "    LB_nach_Altersgruppen[\"Jahr\"] = pd.to_numeric(LB_nach_Altersgruppen[\"Jahr\"], downcast=\"integer\")\n",
        "\n",
        "    # gleicher Vorgang fuer arbeitsuchende ELB nach Schulabschluessen\n",
        "    ELB_arbeitsuchend_nach_Schulabschluessen = df.iloc[:, [13, 14, 15, 16, 17, 18, 19, 24, 25, 26]].copy()\n",
        "    ELB_arbeitsuchend_nach_Schulabschluessen = pd.melt(ELB_arbeitsuchend_nach_Schulabschluessen, id_vars=['AGS', 'Gemeinde', 'Geschlecht', 'arbeitsuchende ELB insgesamt'], value_vars=['kein Hauptschulabschluss', 'Hauptschulabschluss', 'mittlere Reife', 'Fachhochschule', 'Abitur/ Hochschulreife', 'keine Angabe'], var_name='Schulabschluss', value_name='Anzahl')\n",
        "    ELB_arbeitsuchend_nach_Schulabschluessen['Jahr'] = year\n",
        "    ELB_arbeitsuchend_nach_Schulabschluessen[\"AGS\"] = pd.to_numeric(ELB_arbeitsuchend_nach_Schulabschluessen[\"AGS\"], downcast=\"integer\")\n",
        "    ELB_arbeitsuchend_nach_Schulabschluessen[\"Jahr\"] = pd.to_numeric(ELB_arbeitsuchend_nach_Schulabschluessen[\"Jahr\"], downcast=\"integer\")\n",
        "\n",
        "    # gleicher Vorgang fuer die ELB arbeitsuchend nach Berufsausbildung\n",
        "    ELB_arbeitsuchend_nach_Berufsausbildung = df.iloc[:, [13, 20, 21, 22, 23, 24, 25, 26]].copy()\n",
        "    ELB_arbeitsuchend_nach_Berufsausbildung = pd.melt(ELB_arbeitsuchend_nach_Berufsausbildung, id_vars=['AGS', 'Gemeinde', 'Geschlecht', 'arbeitsuchende ELB insgesamt'], value_vars=['ohne abgeschlossene Berufsausbildung', 'betriebliche/schulische Ausbildung', 'akademische Ausbildung', 'keine Angabe'], var_name='Berufsausbildung', value_name='Anzahl')\n",
        "    ELB_arbeitsuchend_nach_Berufsausbildung['Jahr'] = year\n",
        "    ELB_arbeitsuchend_nach_Berufsausbildung[\"AGS\"] = pd.to_numeric(ELB_arbeitsuchend_nach_Berufsausbildung[\"AGS\"], downcast=\"integer\")\n",
        "    ELB_arbeitsuchend_nach_Berufsausbildung[\"Jahr\"] = pd.to_numeric(ELB_arbeitsuchend_nach_Berufsausbildung[\"Jahr\"], downcast=\"integer\")\n",
        "\n",
        "    # Rueckgabe der Ergebnisse in separaten Dataframes\n",
        "    return LB_nach_Altersgruppen, ELB_arbeitsuchend_nach_Schulabschluessen, ELB_arbeitsuchend_nach_Berufsausbildung\n",
        "\n",
        "# Definierte Funktion auf die Daten anwenden und damit Dataframes transformieren\n",
        "LB_nach_Altersgruppen_2014, ELB_arbeitsuchend_nach_Schulabschluessen_2014, ELB_arbeitsuchend_nach_Berufsausbildung_2014 = apply_transformation(ba_2014_combined, 2014)\n",
        "LB_nach_Altersgruppen_2015, ELB_arbeitsuchend_nach_Schulabschluessen_2015, ELB_arbeitsuchend_nach_Berufsausbildung_2015 = apply_transformation(ba_2015_combined, 2015)\n",
        "LB_nach_Altersgruppen_2016, ELB_arbeitsuchend_nach_Schulabschluessen_2016, ELB_arbeitsuchend_nach_Berufsausbildung_2016 = apply_transformation(ba_2016_combined, 2016)\n",
        "LB_nach_Altersgruppen_2017, ELB_arbeitsuchend_nach_Schulabschluessen_2017, ELB_arbeitsuchend_nach_Berufsausbildung_2017 = apply_transformation(ba_2017_combined, 2017)\n",
        "LB_nach_Altersgruppen_2018, ELB_arbeitsuchend_nach_Schulabschluessen_2018, ELB_arbeitsuchend_nach_Berufsausbildung_2018 = apply_transformation(ba_2018_combined, 2018)\n",
        "LB_nach_Altersgruppen_2019, ELB_arbeitsuchend_nach_Schulabschluessen_2019, ELB_arbeitsuchend_nach_Berufsausbildung_2019 = apply_transformation(ba_2019_combined, 2019)\n",
        "LB_nach_Altersgruppen_2020, ELB_arbeitsuchend_nach_Schulabschluessen_2020, ELB_arbeitsuchend_nach_Berufsausbildung_2020 = apply_transformation(ba_2020_combined, 2020)\n",
        "LB_nach_Altersgruppen_2021, ELB_arbeitsuchend_nach_Schulabschluessen_2021, ELB_arbeitsuchend_nach_Berufsausbildung_2021 = apply_transformation(ba_2021_combined, 2021)"
      ]
    },
    {
      "cell_type": "code",
      "execution_count": null,
      "metadata": {
        "id": "yighUWdTvRE1"
      },
      "outputs": [],
      "source": [
        "# Tabellenkopf der Tabelle zu den Leistungsberechtigten anzeigen\n",
        "LB_nach_Altersgruppen_2021.head(4)"
      ]
    },
    {
      "cell_type": "markdown",
      "metadata": {
        "id": "D0cvEukFvRE2"
      },
      "source": [
        "# 2. Bevoelkerungsdaten umformen\n",
        "\n",
        "#### Nachdem die Daten zu den LB nun in der gewuenschten Form vorliegen, wenden wir uns den Bevoelkerungsdaten zu und formen diese ebenfalls um, sodass sie im naechsten Schritt mit den Daten zu den LB verknuepft werden koennen."
      ]
    },
    {
      "cell_type": "code",
      "execution_count": null,
      "metadata": {
        "id": "hAF3C4dAvRE2"
      },
      "outputs": [],
      "source": [
        "# Liste mit den Dateinamen erstellen\n",
        "file_names = glob.glob('bevoelkerung_alter_geschlecht_*.csv')\n",
        "\n",
        "# Bevoelkerungsdaten einlesen und umformen\n",
        "\n",
        "# Schleife ueber alle Dateien\n",
        "for file in file_names:\n",
        "    # Jahreszahl aus dem Dateinamen extrahieren\n",
        "    year = file.split('_')[-1].split('.')[0]\n",
        "\n",
        "    # Daten einlesen und jede CSV in einem DataFrame mit der Bezeichnung \"bevoelkerung_yyyy\" speichern\n",
        "    df_name = 'bevoelkerung_' + year\n",
        "    globals()[df_name] = pd.read_csv(file, encoding='ISO-8859-1', delimiter=';')\n",
        "\n",
        "    # Umwandlung der Spalte \"Geschlecht\"\n",
        "    for df in [globals()[df_name]]:\n",
        "        df['Geschlecht'] = df['Geschlecht'].astype(str)\n",
        "        df['Geschlecht'] = df['Geschlecht'].replace({'2': 'w', '1': 'm'})\n",
        "\n",
        "    # Umwandlung der Spalte \"Alter\"\n",
        "    for df in [globals()[df_name]]:\n",
        "        df['Alter'] = df['Alter'].replace({'u3': 'unter 3 Jahren', '3-u6': '3 bis unter 6 Jahren',\n",
        "                                           '6-u15': '6 bis unter 15 Jahren', '15-u18': '15 bis unter 18 Jahren',\n",
        "                                           '18-u25': '18 bis unter 25 Jahren', '25-u65': '25 bis unter 65 Jahren'})\n",
        "\n",
        "    # Entfernung der Zeilen mit den Werten \"u65\" und \"ue65\" in der Spalte \"Alter\"\n",
        "    for df in [globals()[df_name]]:\n",
        "        df.drop(df[(df['Alter'] == 'u65') | (df['Alter'] == 'ü65') | (df['Alter'] == 'insg')].index, inplace=True)\n",
        "\n",
        "    # Spaltennamen aendern\n",
        "    for df in [globals()[df_name]]:\n",
        "        df.rename(columns={\"Alter\": \"Altersgruppe\", \"Anzahl\": \"Anzahl_Bevoelkerung\"}, inplace=True)"
      ]
    },
    {
      "cell_type": "code",
      "execution_count": null,
      "metadata": {
        "id": "UO2--Qm0vRE2"
      },
      "outputs": [],
      "source": [
        "# Tabellenkopf der Bevoelkerungsdaten nach der Umformung anzeigen\n",
        "bevoelkerung_2021.head()"
      ]
    },
    {
      "cell_type": "markdown",
      "metadata": {
        "id": "hc1JNFqYvRE2"
      },
      "source": [
        "# 3. Sozial- und Bevoelkerungsdaten zusammenfuegen (\"Merge\") und Quoten berechnen\n",
        "\n",
        "## 3.1 Merge"
      ]
    },
    {
      "cell_type": "markdown",
      "metadata": {
        "id": "TABbVEr2vRE2"
      },
      "source": [
        "### Plan fuer den Merge (hier fuer 2021, analog auf die uebrigen Jahrgaenge zu uebertragen):\n",
        "\n",
        "- LB_nach_Altersgruppen_2021 und bevoelkerung_2021:\n",
        "    - Ziel: Anteil der LB (nach Altersgruppen und Geschlecht) an der jeweiligen Bevoelkerung berechnen\n",
        "    - Vorbereitung: bevoelkerung_2021 gruppieren nach \"AGS\" und \"Geschlecht\", sodass Summe der u65 Jaehrigen gebildet wird fuer SGBII-Quote\n",
        "    - Merge ueber die Spalten \"AGS\", \"Geschlecht\"\n",
        "- ELB_arbeitsuchend_nach_Berufsausbildung_2021:\n",
        "    - Ziel: Anteil der arbeitsuchenden ELB nach Berufsausbildung und Geschlecht an der Gesamtzahl der arbeitsuchenden ELB 15-u65 berechnen\n",
        "    - Kein Merge mit Bevoelkerungsdaten erforderlich\n",
        "- ELB_arbeitsuchend_nach_Schulabschluessen_2021:\n",
        "    - Ziel: Anteil der arbeitsuchenden ELB nach Schulabschluss und Geschlecht an der Gesamtzahl der arbeitsuchenden ELB 15-u65 berechnen\n",
        "    - Kein Merge mit Bevoelkerungsdaten erforderlich"
      ]
    },
    {
      "cell_type": "code",
      "execution_count": null,
      "metadata": {
        "id": "P-yVM83FvRE2"
      },
      "outputs": [],
      "source": [
        "# Merge der Dataframes fuer 2014\n",
        "## LB\n",
        "merged_lb_bev_2014 = LB_nach_Altersgruppen_2014.merge(bevoelkerung_2014, on=[\"AGS\", \"Geschlecht\", \"Altersgruppe\"])\n",
        "\n",
        "# Merge der Dataframes fuer die uebrigen Jahre\n",
        "## LB\n",
        "merged_lb_bev_2015 = LB_nach_Altersgruppen_2015.merge(bevoelkerung_2015, on=[\"AGS\", \"Geschlecht\", \"Altersgruppe\"])\n",
        "merged_lb_bev_2016 = LB_nach_Altersgruppen_2016.merge(bevoelkerung_2016, on=[\"AGS\", \"Geschlecht\", \"Altersgruppe\"])\n",
        "merged_lb_bev_2017 = LB_nach_Altersgruppen_2017.merge(bevoelkerung_2017, on=[\"AGS\", \"Geschlecht\", \"Altersgruppe\"])\n",
        "merged_lb_bev_2018 = LB_nach_Altersgruppen_2018.merge(bevoelkerung_2018, on=[\"AGS\", \"Geschlecht\", \"Altersgruppe\"])\n",
        "merged_lb_bev_2019 = LB_nach_Altersgruppen_2019.merge(bevoelkerung_2019, on=[\"AGS\", \"Geschlecht\", \"Altersgruppe\"])\n",
        "merged_lb_bev_2020 = LB_nach_Altersgruppen_2020.merge(bevoelkerung_2020, on=[\"AGS\", \"Geschlecht\", \"Altersgruppe\"])\n",
        "merged_lb_bev_2021 = LB_nach_Altersgruppen_2021.merge(bevoelkerung_2021, on=[\"AGS\", \"Geschlecht\", \"Altersgruppe\"])"
      ]
    },
    {
      "cell_type": "code",
      "execution_count": null,
      "metadata": {
        "id": "7Z_Go5idvRE2"
      },
      "outputs": [],
      "source": [
        "# Tabellenkopf der zusammengefuegten Tabelle fuer 2021 anzeigen\n",
        "merged_lb_bev_2021.head(4)"
      ]
    },
    {
      "cell_type": "markdown",
      "metadata": {
        "id": "4asDPOL_vRE2"
      },
      "source": [
        "## 3.2 Ergebnistabellen stapeln\n",
        "\n",
        "#### Die Daten liegen aktuell noch in einzelnen Dataframes fuer die jeweiligen Jahrgaenge vor. Wir stapeln diese Dataframes untereinander, um alle Jahrgaenge in einem Dataframe zusammenzufassen."
      ]
    },
    {
      "cell_type": "code",
      "execution_count": null,
      "metadata": {
        "id": "9Kg6DcXyvRE2"
      },
      "outputs": [],
      "source": [
        "stacked_lb_bev = pd.concat([merged_lb_bev_2014, merged_lb_bev_2015, merged_lb_bev_2016, merged_lb_bev_2017, merged_lb_bev_2018, merged_lb_bev_2019, merged_lb_bev_2020, merged_lb_bev_2021], ignore_index=True)\n",
        "stacked_elb_schul = pd.concat([ELB_arbeitsuchend_nach_Schulabschluessen_2014, ELB_arbeitsuchend_nach_Schulabschluessen_2015, ELB_arbeitsuchend_nach_Schulabschluessen_2016, ELB_arbeitsuchend_nach_Schulabschluessen_2017, ELB_arbeitsuchend_nach_Schulabschluessen_2018, ELB_arbeitsuchend_nach_Schulabschluessen_2019, ELB_arbeitsuchend_nach_Schulabschluessen_2020, ELB_arbeitsuchend_nach_Schulabschluessen_2021], ignore_index=True)\n",
        "stacked_elb_beruf = pd.concat([ELB_arbeitsuchend_nach_Berufsausbildung_2014, ELB_arbeitsuchend_nach_Berufsausbildung_2015, ELB_arbeitsuchend_nach_Berufsausbildung_2016, ELB_arbeitsuchend_nach_Berufsausbildung_2017, ELB_arbeitsuchend_nach_Berufsausbildung_2018, ELB_arbeitsuchend_nach_Berufsausbildung_2019, ELB_arbeitsuchend_nach_Berufsausbildung_2020, ELB_arbeitsuchend_nach_Berufsausbildung_2021], ignore_index=True)"
      ]
    },
    {
      "cell_type": "code",
      "execution_count": null,
      "metadata": {
        "id": "Xi8XuNU8vRE2"
      },
      "outputs": [],
      "source": [
        "# Tabellenkopf des gestapelten Dataframes fuer die LB mit allen Jahrgaengen anzeigen\n",
        "stacked_lb_bev.head(1)"
      ]
    },
    {
      "cell_type": "code",
      "execution_count": null,
      "metadata": {
        "id": "xSAI66-mvRE3"
      },
      "outputs": [],
      "source": [
        "stacked_elb_beruf.head(100)"
      ]
    },
    {
      "cell_type": "markdown",
      "metadata": {
        "id": "qmn6QD9xvRE3"
      },
      "source": [
        "## 3.3 Ergebnistabellen Spalten umbennen"
      ]
    },
    {
      "cell_type": "code",
      "execution_count": null,
      "metadata": {
        "id": "GBk1ruFWvRE3"
      },
      "outputs": [],
      "source": [
        "# Umbenennungen im DataFrame \"stacked_lb_bev\"\n",
        "stacked_lb_bev = stacked_lb_bev.rename(columns={\"Altersgruppe\": \"Altersgruppe_LB\",\n",
        "                                                \"Anzahl\": \"Anzahl_LB\"})\n",
        "\n",
        "# Umbenennungen im DataFrame \"stacked_elb_schul\"\n",
        "stacked_elb_schul = stacked_elb_schul.rename(columns={\"arbeitsuchende ELB insgesamt\": \"arbeitsuchende_elb_insgesamt\"})\n",
        "\n",
        "# Umbenennungen im DataFrame \"stacked_elb_beruf\"\n",
        "stacked_elb_beruf = stacked_elb_beruf.rename(columns={\"arbeitsuchende ELB insgesamt\": \"arbeitsuchende_elb_insgesamt\"})"
      ]
    },
    {
      "cell_type": "markdown",
      "metadata": {
        "id": "jEFht_c4vRE3"
      },
      "source": [
        "## 3.4 Differenzierung nach Geschlecht aufheben\n",
        "\n",
        "#### Um die Fallzahlen pro Altersgruppe zu erhoehen, wird die Unterscheidung nach Geschlecht aufgehoben"
      ]
    },
    {
      "cell_type": "code",
      "execution_count": null,
      "metadata": {
        "id": "OiDbrI1PvRE3"
      },
      "outputs": [],
      "source": [
        "grouping_columns = ['AGS', 'Gemeinde', 'Altersgruppe_LB', 'Jahr']\n",
        "\n",
        "# Gruppieren und Summieren\n",
        "stacked_lb_bev = stacked_lb_bev.groupby(grouping_columns, as_index=False).agg({\n",
        "    'Anzahl_LB': 'sum',\n",
        "    'Anzahl_Bevoelkerung': 'sum'\n",
        "})"
      ]
    },
    {
      "cell_type": "code",
      "execution_count": null,
      "metadata": {
        "id": "gR36ZQ_tvRE3"
      },
      "outputs": [],
      "source": [
        "grouping_columns = ['AGS', 'Gemeinde', 'Schulabschluss', 'Jahr']\n",
        "\n",
        "# Gruppieren und Summieren\n",
        "stacked_elb_schul = stacked_elb_schul.groupby(grouping_columns, as_index=False).agg({\n",
        "    'arbeitsuchende_elb_insgesamt': 'sum',\n",
        "    'Anzahl': 'sum'\n",
        "})"
      ]
    },
    {
      "cell_type": "code",
      "execution_count": null,
      "metadata": {
        "id": "T6e88C8bvRE3"
      },
      "outputs": [],
      "source": [
        "grouping_columns = ['AGS', 'Gemeinde', 'Berufsausbildung', 'Jahr']\n",
        "\n",
        "# Gruppieren und Summieren\n",
        "stacked_elb_beruf = stacked_elb_beruf.groupby(grouping_columns, as_index=False).agg({\n",
        "    'arbeitsuchende_elb_insgesamt': 'sum',\n",
        "    'Anzahl': 'sum'\n",
        "})"
      ]
    },
    {
      "cell_type": "code",
      "execution_count": null,
      "metadata": {
        "id": "EuKaIOTovRE3"
      },
      "outputs": [],
      "source": [
        "# Tabellenkopf nach der Aufhebung der Unterscheidung nach Geschlecht anzeigen\n",
        "stacked_lb_bev.head()"
      ]
    },
    {
      "cell_type": "code",
      "execution_count": null,
      "metadata": {
        "id": "A_5Ar2LBvRE3"
      },
      "outputs": [],
      "source": [
        "stacked_elb_beruf.head()"
      ]
    },
    {
      "cell_type": "code",
      "execution_count": null,
      "metadata": {
        "id": "vFtG7npRvRE4"
      },
      "outputs": [],
      "source": [
        "stacked_elb_schul.head()"
      ]
    },
    {
      "cell_type": "markdown",
      "metadata": {
        "id": "8JX8aDX1vRE4"
      },
      "source": [
        "## 3.5 Altersgruppen zusammenfassen, sodass folgende Altersdifferenzierung uebrig bleibt: 0-u6; 6-u15; 15-u18; 18-u65\n",
        "\n",
        "#### Um die Fallzahlen pro Altersgruppe weiter zu erhoehen, werden einzelne Altersgruppen zusammengefasst"
      ]
    },
    {
      "cell_type": "code",
      "execution_count": null,
      "metadata": {
        "id": "DVZOwOAOvRE4"
      },
      "outputs": [],
      "source": [
        "unique_ages = stacked_lb_bev[\"Altersgruppe_LB\"].unique()"
      ]
    },
    {
      "cell_type": "code",
      "execution_count": null,
      "metadata": {
        "id": "DXwxqdJ9vRFB"
      },
      "outputs": [],
      "source": [
        "# Werte in der Spalte 'Altersgruppe_LB' ersetzen, um anschliessend gruppieren zu koennen\n",
        "replacement_dict = {\n",
        "    'unter 3 Jahren': '0 bis unter 6 Jahren',\n",
        "    '3 bis unter 6 Jahren': '0 bis unter 6 Jahren',\n",
        "    '18 bis unter 25 Jahren': '18 bis unter 65 Jahren',\n",
        "    '25 bis unter 65 Jahren': '18 bis unter 65 Jahren'\n",
        "}\n",
        "\n",
        "stacked_lb_bev['Altersgruppe_LB'] = stacked_lb_bev['Altersgruppe_LB'].replace(replacement_dict)\n",
        "\n",
        "# Liste der Spalten, nach denen gruppiert werden soll\n",
        "grouping_columns = ['AGS', 'Gemeinde', 'Altersgruppe_LB', 'Jahr']\n",
        "\n",
        "# Gruppieren und Summieren\n",
        "stacked_lb_bev = stacked_lb_bev.groupby(grouping_columns, as_index=False).agg({\n",
        "    'Anzahl_LB': 'sum',\n",
        "    'Anzahl_Bevoelkerung': 'sum'\n",
        "})"
      ]
    },
    {
      "cell_type": "code",
      "execution_count": null,
      "metadata": {
        "id": "FPFfn6mRvRFB"
      },
      "outputs": [],
      "source": [
        "# Tabellenkopf nach Zusammenfassung einzelner Altersgruppen anzeigen\n",
        "stacked_lb_bev.head()"
      ]
    },
    {
      "cell_type": "markdown",
      "metadata": {
        "id": "Y9F_uDcFvRFC"
      },
      "source": [
        "## 3.6 SGB-II und ELB Quoten berechnen\n",
        "\n",
        "#### Nachdem die Tabellen mit den absoluten Werten nun in der gewuenschten Form vorliegen, koennen die Quoten berechnet werden"
      ]
    },
    {
      "cell_type": "code",
      "execution_count": null,
      "metadata": {
        "id": "niC5zVR_vRFC"
      },
      "outputs": [],
      "source": [
        "# Bevoelkerungsdaten enthalten Zeilen, in denen die jeweilige Bevoelkerung = 0 ist; daher Zeilen mit Bevoelkerung = 0 aus Bevoelkerungsdaten entfernen, um Teilen durch 0 bei der Berechnung der Quote zu verhindern\n",
        "stacked_lb_bev = stacked_lb_bev[stacked_lb_bev.Anzahl_Bevoelkerung != 0]\n",
        "\n",
        "# Berechnung der SGB2-Quote (%)\n",
        "stacked_lb_bev[\"SGB2-Quote (%)\"] = (stacked_lb_bev[\"Anzahl_LB\"] / stacked_lb_bev[\"Anzahl_Bevoelkerung\"]) * 100"
      ]
    },
    {
      "cell_type": "code",
      "execution_count": null,
      "metadata": {
        "scrolled": true,
        "id": "mJAjzbKQvRFC"
      },
      "outputs": [],
      "source": [
        "# BA-Daten enthalten Zeilen, in denen arbeitsuchende ELB = 0 ist; daher entsprechende Zeilen entfernen, um Teilen durch 0 bei der Berechnung der Quote zu verhindern\n",
        "stacked_elb_schul = stacked_elb_schul[stacked_elb_schul.arbeitsuchende_elb_insgesamt != 0]\n",
        "\n",
        "# Berechnung der ELB-Quote nach Schulabschluss (%)\n",
        "stacked_elb_schul[\"ELB-Quote (%)\"] = (stacked_elb_schul[\"Anzahl\"] / stacked_elb_schul[\"arbeitsuchende_elb_insgesamt\"]) * 100"
      ]
    },
    {
      "cell_type": "code",
      "execution_count": null,
      "metadata": {
        "id": "nboQIpz7vRFC"
      },
      "outputs": [],
      "source": [
        "# BA-Daten enthalten Zeilen, in denen arbeitsuchende ELB = 0 ist; daher entsprechende Zeilen entfernen, um Teilen durch 0 bei der Berechnung der Quote zu verhindern\n",
        "stacked_elb_beruf = stacked_elb_beruf[stacked_elb_beruf.arbeitsuchende_elb_insgesamt != 0]\n",
        "\n",
        "# Berechnung der ELB-Quote nach Berufsausbildung (%)\n",
        "stacked_elb_beruf[\"ELB-Quote (%)\"] = (stacked_elb_beruf[\"Anzahl\"] / stacked_elb_beruf[\"arbeitsuchende_elb_insgesamt\"]) * 100"
      ]
    },
    {
      "cell_type": "code",
      "execution_count": null,
      "metadata": {
        "id": "X77RY4DQvRFC"
      },
      "outputs": [],
      "source": [
        "# Tabellenkopf anzeigen\n",
        "stacked_lb_bev.head()"
      ]
    },
    {
      "cell_type": "markdown",
      "metadata": {
        "id": "uVlN644UvRFC"
      },
      "source": [
        "## 3.7 Problem unplausibler Werte beheben"
      ]
    },
    {
      "cell_type": "markdown",
      "metadata": {
        "id": "Lph40lJPvRFC"
      },
      "source": [
        "#### Grund fuer unplausible Werte:\n",
        "\n",
        "- Fehlerhafte Schaetzung der SGB2-Quote aufgrund unterschiedlicher Datenstruktur:\n",
        "    - Bei Bevoelkerungsdaten handelt es sich um Stichtagsdaten (31.12.), bei BA-Daten um Jahresdurchschnittswerte\n",
        "    - Dies kann grundsaetzlich zu einer fehlerhaften Schaetzung der (gruppenspezifischen) SGB2-Quoten fuehren\n",
        "    - In wenigen Faellen (0,04 %) ist die Anzahl der Leistungsbezieher aufgrund dieser Datenstruktur in einer bestimmten Gruppe (nach Geschlecht, Alter, Jahr, Gemeinde) hoeher als die Anzahl der Bevoelkerung in der jeweiligen Gruppe (z. B. 3 Leistungsbezieher, aber nur eine Person in den Bevoelkerungsdaten)\n",
        "    - Vorgehen: Ausschluss von Quoten > 100% (SGB2-Quote und ELB-Quote)"
      ]
    },
    {
      "cell_type": "code",
      "execution_count": null,
      "metadata": {
        "id": "vvalowkkvRFC"
      },
      "outputs": [],
      "source": [
        "# Faelle entfernen, bei denen SGB2-Quote > 100% ist\n",
        "stacked_lb_bev = stacked_lb_bev[stacked_lb_bev['SGB2-Quote (%)'] <= 100].reset_index(drop=True)"
      ]
    },
    {
      "cell_type": "code",
      "execution_count": null,
      "metadata": {
        "id": "umKKvf9YvRFC"
      },
      "outputs": [],
      "source": [
        "# Faelle entfernen, bei denen ELB-Quote > 100% ist\n",
        "stacked_elb_schul = stacked_elb_schul[stacked_elb_schul['ELB-Quote (%)'] <= 100].reset_index(drop=True)"
      ]
    },
    {
      "cell_type": "code",
      "execution_count": null,
      "metadata": {
        "id": "lLAUYAZdvRFC"
      },
      "outputs": [],
      "source": [
        "# Faelle entfernen, bei denen ELB-Quote > 100% ist\n",
        "stacked_elb_beruf = stacked_elb_beruf[stacked_elb_beruf['ELB-Quote (%)'] <= 100].reset_index(drop=True)"
      ]
    },
    {
      "cell_type": "markdown",
      "metadata": {
        "id": "CH13e-nAvRFC"
      },
      "source": [
        "## 3.8 Datenreihen mit Bezugsgroesse <= 70 entfernen"
      ]
    },
    {
      "cell_type": "code",
      "execution_count": null,
      "metadata": {
        "id": "BTUDmAu8vRFD"
      },
      "outputs": [],
      "source": [
        "# Datensaetze erstellen\n",
        "stacked_lb_bev_ue70 = stacked_lb_bev[stacked_lb_bev.Anzahl_Bevoelkerung > 70]\n",
        "stacked_elb_schul_ue70 = stacked_elb_schul[stacked_elb_schul.arbeitsuchende_elb_insgesamt > 70]\n",
        "stacked_elb_beruf_ue70 = stacked_elb_beruf[stacked_elb_beruf.arbeitsuchende_elb_insgesamt > 70]"
      ]
    },
    {
      "cell_type": "code",
      "execution_count": null,
      "metadata": {
        "id": "e3J4w0ntvRFD"
      },
      "outputs": [],
      "source": [
        "# Berechnen, welcher Anteil der Datenpunkte entfernt wurde\n",
        "num_rows_stacked_elb_beruf = stacked_elb_beruf.shape[0]\n",
        "num_rows_stacked_elb_schul = stacked_elb_schul.shape[0]\n",
        "num_rows_stacked_lb_bev = stacked_lb_bev.shape[0]\n",
        "\n",
        "num_rows_stacked_elb_beruf_ue70 = stacked_elb_beruf_ue70.shape[0]\n",
        "num_rows_stacked_elb_schul_ue70 = stacked_elb_schul_ue70.shape[0]\n",
        "num_rows_stacked_lb_bev_ue70 = stacked_lb_bev_ue70.shape[0]\n",
        "\n",
        "diff1 = num_rows_stacked_elb_beruf - num_rows_stacked_elb_beruf_ue70\n",
        "diff2 = num_rows_stacked_elb_schul - num_rows_stacked_elb_schul_ue70\n",
        "diff3 = num_rows_stacked_lb_bev - num_rows_stacked_lb_bev_ue70\n",
        "\n",
        "remaining1 = num_rows_stacked_elb_beruf_ue70/num_rows_stacked_elb_beruf*100\n",
        "remaining2 = num_rows_stacked_elb_schul_ue70/num_rows_stacked_elb_schul*100\n",
        "remaining3 = num_rows_stacked_lb_bev_ue70/num_rows_stacked_lb_bev*100\n",
        "\n",
        "print(\"In der Tabelle 'stacked_elb_beruf' wurden\", diff1, \"Datenpunkte entfernt. Es sind noch\", remaining1, \"% der Ausgangswerte enthalten.\" )\n",
        "print(\"In der Tabelle 'stacked_elb_schul' wurden\", diff2, \"Datenpunkte entfernt. Es sind noch\", remaining2, \"% der Ausgangswerte enthalten.\" )\n",
        "print(\"In der Tabelle 'stacked_lb_bev' wurden\", diff3, \"Datenpunkte entfernt. Es sind noch\", remaining3, \"% der Ausgangswerte enthalten.\" )"
      ]
    },
    {
      "cell_type": "markdown",
      "metadata": {
        "id": "n9qQmP2tvRFD"
      },
      "source": [
        "## 3.9 Moegliche Klassen bzw. Container (\"bins\") fuer die Darstellung der Daten auf eingefaerbter Karte pruefen"
      ]
    },
    {
      "cell_type": "markdown",
      "metadata": {
        "id": "hU49qktkvRFD"
      },
      "source": [
        "__Quantile-Methode__: Bei dieser Methode werden die Bins so gewaehlt, dass jedes Intervall die gleiche Anzahl von Datenpunkten enthaelt. Dies sorgt zwar fuer eine gleichmaessige Verteilung der Farben auf der Karte, allerdings koennen kleine Unterschiede in den Daten zu grossen Unterschieden in den Bins fuehren, wenn die Daten eng beieinander liegen."
      ]
    },
    {
      "cell_type": "code",
      "execution_count": null,
      "metadata": {
        "id": "r8DVWsn-vRFD"
      },
      "outputs": [],
      "source": [
        "# Anzahl der Bins\n",
        "num_bins = 5\n",
        "\n",
        "# Quantile berechnen\n",
        "quantiles = np.linspace(0, 1, num_bins + 1)\n",
        "bin_edges = np.quantile(stacked_lb_bev_ue70['SGB2-Quote (%)'], quantiles)\n",
        "\n",
        "# Histogramm erstellen\n",
        "plt.hist(stacked_lb_bev_ue70['SGB2-Quote (%)'], bins=bin_edges, edgecolor='black', color='lightblue', alpha=0.6)\n",
        "plt.xlabel('SGB2-Quote (%)')\n",
        "plt.ylabel('Anzahl')\n",
        "plt.title('Quantile-Bins')\n",
        "plt.show()\n",
        "\n",
        "# Bins und Anzahl der Werte ausgeben\n",
        "for i in range(num_bins):\n",
        "    bin_range = f'{bin_edges[i]:.2f}-{bin_edges[i+1]:.2f}'\n",
        "    count = ((stacked_lb_bev_ue70['SGB2-Quote (%)'] >= bin_edges[i]) & (stacked_lb_bev_ue70['SGB2-Quote (%)'] < bin_edges[i+1])).sum()\n",
        "    print(f'Bin {i+1}: {bin_range}, Anzahl: {count}')"
      ]
    },
    {
      "cell_type": "markdown",
      "metadata": {
        "id": "RHWwwusyvRFD"
      },
      "source": [
        "__Gleichmaessige Intervalle__: Hierbei wird der gesamte Bereich der Daten in gleich grosse Intervalle unterteilt. Diese Einteilung ist leicht verstaendlich, kann jedoch dazu fuehren, dass viele Datenpunkte in ein oder zwei Bins fallen, wenn die Daten stark ungleich verteilt sind."
      ]
    },
    {
      "cell_type": "code",
      "execution_count": null,
      "metadata": {
        "id": "nYb_kIexvRFD"
      },
      "outputs": [],
      "source": [
        "# Anzahl der Bins\n",
        "num_bins = 5\n",
        "\n",
        "# Gleichmaessige Intervalle berechnen\n",
        "bin_edges = np.linspace(stacked_lb_bev_ue70['SGB2-Quote (%)'].min(), stacked_lb_bev_ue70['SGB2-Quote (%)'].max(), num_bins + 1)\n",
        "\n",
        "# Histogramm erstellen\n",
        "plt.hist(stacked_lb_bev_ue70['SGB2-Quote (%)'], bins=bin_edges, edgecolor='black', color='lightblue', alpha=0.6)\n",
        "plt.xlabel('SGB2-Quote (%)')\n",
        "plt.ylabel('Anzahl')\n",
        "plt.title('Gleichmaessige-Intervalle-Bins')\n",
        "plt.show()\n",
        "\n",
        "# Bins und Anzahl der Werte ausgeben\n",
        "for i in range(num_bins):\n",
        "    bin_range = f'{bin_edges[i]:.2f}-{bin_edges[i+1]:.2f}'\n",
        "    count = ((stacked_lb_bev_ue70['SGB2-Quote (%)'] >= bin_edges[i]) & (stacked_lb_bev_ue70['SGB2-Quote (%)'] < bin_edges[i+1])).sum()\n",
        "    print(f'Bin {i+1}: {bin_range}, Anzahl: {count}')"
      ]
    },
    {
      "cell_type": "markdown",
      "metadata": {
        "id": "Kf-5OatJvRFD"
      },
      "source": [
        "__Standardabweichung__: Hierbei werden Bins basierend auf der statistischen Standardabweichung der Daten erstellt. Dies kann hilfreich sein, um zu sehen, welche Datenpunkte signifikant vom Durchschnitt abweichen."
      ]
    },
    {
      "cell_type": "code",
      "execution_count": null,
      "metadata": {
        "id": "9j2PwOIuvRFD"
      },
      "outputs": [],
      "source": [
        "# Anzahl der Bins\n",
        "num_bins = 5\n",
        "\n",
        "# Standardabweichung berechnen\n",
        "mean = stacked_lb_bev_ue70['SGB2-Quote (%)'].mean()\n",
        "std = stacked_lb_bev_ue70['SGB2-Quote (%)'].std()\n",
        "bin_edges = [mean - 2*std, mean - std, mean, mean + std, mean + 2*std, stacked_lb_bev_ue70['SGB2-Quote (%)'].max()]\n",
        "\n",
        "# Histogramm erstellen\n",
        "plt.hist(stacked_lb_bev_ue70['SGB2-Quote (%)'], bins=bin_edges, edgecolor='black', color='lightblue', alpha=0.6)\n",
        "plt.xlabel('SGB2-Quote (%)')\n",
        "plt.ylabel('Anzahl')\n",
        "plt.title('Standardabweichung-Bins')\n",
        "plt.show()\n",
        "\n",
        "# Bins und Anzahl der Werte ausgeben\n",
        "for i in range(len(bin_edges)-1):\n",
        "    bin_range = f'{bin_edges[i]:.2f}-{bin_edges[i+1]:.2f}'\n",
        "    count = ((stacked_lb_bev_ue70['SGB2-Quote (%)'] >= bin_edges[i]) & (stacked_lb_bev_ue70['SGB2-Quote (%)'] < bin_edges[i+1])).sum()\n",
        "    print(f'Bin {i+1}: {bin_range}, Anzahl: {count}')"
      ]
    },
    {
      "cell_type": "markdown",
      "metadata": {
        "id": "-tbwdg2DvRFE"
      },
      "source": [
        "__Benutzerdefinierte Bins__:  Hier kann der Benutzer die Bins manuell festlegen, auf Grundlage seines Wissens ueber die Struktur der Daten, fachlicher Erwaegungen, seiner Anforderungen an die Visualisierung etc."
      ]
    },
    {
      "cell_type": "code",
      "execution_count": null,
      "metadata": {
        "id": "nTFnt_QivRFE"
      },
      "outputs": [],
      "source": [
        "# Benutzerdefinierte Bins festlegen\n",
        "custom_bins = [0, 2, 7, 15, 30, 45, 100]\n",
        "\n",
        "# Histogramm erstellen\n",
        "plt.hist(stacked_lb_bev_ue70['SGB2-Quote (%)'], bins=custom_bins, edgecolor='black', color='lightblue', alpha=0.6)\n",
        "plt.xlabel('SGB2-Quote (%)')\n",
        "plt.ylabel('Anzahl')\n",
        "plt.title('Benutzerdefinierte Bins')\n",
        "plt.show()\n",
        "\n",
        "# Bins und Anzahl der Werte ausgeben\n",
        "for i in range(len(custom_bins)-1):\n",
        "    bin_range = f'{custom_bins[i]}-{custom_bins[i+1]}'\n",
        "    count = ((stacked_lb_bev_ue70['SGB2-Quote (%)'] >= custom_bins[i]) & (stacked_lb_bev_ue70['SGB2-Quote (%)'] < custom_bins[i+1])).sum()\n",
        "    print(f'Bin {i+1}: {bin_range}, Anzahl: {count}')"
      ]
    },
    {
      "cell_type": "markdown",
      "metadata": {
        "id": "5oIk31nrvRFE"
      },
      "source": [
        "__Natural-Breaks-Bins__: Die Methode Natural Breaks klassifiziert die Datenpunkte in Klassen basierend auf natuerlichen Gruppen in den Daten selbst. Sie versucht, die Varianz innerhalb der Gruppen zu minimieren und die Varianz zwischen den Gruppen zu maximieren."
      ]
    },
    {
      "cell_type": "code",
      "execution_count": null,
      "metadata": {
        "id": "FtWiegvjvRFE"
      },
      "outputs": [],
      "source": [
        "# Extrahieren der Werte aus der Spalte 'SGB2-Quote (%)'\n",
        "data = stacked_lb_bev_ue70['SGB2-Quote (%)'].values\n",
        "\n",
        "# Berechnen der Bins mit der NaturalBreaks-Methode\n",
        "classifier = NaturalBreaks(data, k=6)\n",
        "breaks = classifier.bins\n",
        "breaks = np.insert(breaks, 0, 0)\n",
        "\n",
        "# Erstellen des Histogramms\n",
        "plt.hist(data, bins=breaks, edgecolor='black', color='lightblue', alpha=0.6)\n",
        "plt.xlabel('SGB2-Quote (%)')\n",
        "plt.ylabel('Anzahl')\n",
        "plt.title('Natural-Breaks Bins')\n",
        "plt.show()\n",
        "\n",
        "# Ausgabe der Bin-Ranges und der Anzahl der Werte in jedem Bin\n",
        "for i in range(len(breaks)-1):\n",
        "    print(f\"Bin {i+1}: {breaks[i]}-{breaks[i+1]}, Anzahl: {((data > breaks[i]) & (data <= breaks[i+1])).sum()}\")"
      ]
    },
    {
      "cell_type": "markdown",
      "metadata": {
        "id": "zlAIXafsvRFE"
      },
      "source": [
        "__FisherJenks_ bzw. FisherJenksSampled__: Aehnlich wie Natural Breaks, jedoch spezialisiert auf die Anwendung auf eindimensionale Daten; sorgt im Vergleich zu aehnlichen Methoden fuer geringere Abweichungen der Datenpunkte um den jeweiligen Klassen-Median. Bei der \"Sampled\"-Variante (sinnvoll bei sehr grossen Datenmengen) werden nicht alle Datenpunkte, sondern eine Stichprobe (z. B. 20 % der Faelle) zur Ermittlung der Klassengrenzen beruecksichtigt."
      ]
    },
    {
      "cell_type": "code",
      "execution_count": null,
      "metadata": {
        "id": "92SWt34FvRFE"
      },
      "outputs": [],
      "source": [
        "# Extrahieren der Werte aus der Spalte 'SGB2-Quote (%)'\n",
        "data = stacked_lb_bev_ue70['SGB2-Quote (%)'].values\n",
        "\n",
        "# Berechnen der Bins mit der FisherJenksSampled-Methode\n",
        "classifier = FisherJenksSampled(data, pct=0.2, k=6)\n",
        "bins = classifier.bins\n",
        "bins = np.insert(bins, 0, 0)\n",
        "\n",
        "# Erstellen des Histogramms\n",
        "plt.hist(data, bins=bins, edgecolor='black', color='lightblue', alpha=0.6)\n",
        "plt.xlabel('SGB2-Quote (%)')\n",
        "plt.ylabel('Anzahl')\n",
        "plt.title('FisherJenksSampled Bins')\n",
        "plt.show()\n",
        "\n",
        "# Ausgabe der Bin-Ranges und der Anzahl der Werte in jedem Bin\n",
        "for i in range(len(bins)-1):\n",
        "    print(f\"Bin {i+1}: {bins[i]}-{bins[i+1]}, Anzahl: {((data > bins[i]) & (data <= bins[i+1])).sum()}\")"
      ]
    },
    {
      "cell_type": "markdown",
      "metadata": {
        "id": "YOMGlv70vRFE"
      },
      "source": [
        "## 3.10 Bins fuer 2021 auf Gemeindeebene mit FisherJenks-Methode ermitteln"
      ]
    },
    {
      "cell_type": "code",
      "execution_count": null,
      "metadata": {
        "id": "5QsskKMEvRFE"
      },
      "outputs": [],
      "source": [
        "# Daten bereinigen, sodass zusammengefasste SGB2-Quote auf Gemeindeebene fuer das Jahr 2021 verbleibt\n",
        "data2021_fisher_jenks = stacked_lb_bev_ue70\n",
        "data2021_fisher_jenks = data2021_fisher_jenks[data2021_fisher_jenks.Jahr == 2021]\n",
        "data2021_fisher_jenks['LB_Gesamt'] = data2021_fisher_jenks.groupby('Gemeinde')['Anzahl_LB'].transform('sum')\n",
        "data2021_fisher_jenks['Bev_Gesamt'] = data2021_fisher_jenks.groupby('Gemeinde')['Anzahl_Bevoelkerung'].transform('sum')\n",
        "data2021_fisher_jenks[\"SGB2-Quote (%) gesamt\"] = (data2021_fisher_jenks[\"LB_Gesamt\"] / data2021_fisher_jenks[\"Bev_Gesamt\"]) * 100\n",
        "data2021_fisher_jenks = data2021_fisher_jenks[['Gemeinde', 'SGB2-Quote (%) gesamt']]\n",
        "data2021_fisher_jenks = data2021_fisher_jenks.drop_duplicates()\n",
        "\n",
        "# Extrahieren der Werte aus der Spalte 'SGB2-Quote (%) gesamt'\n",
        "data = data2021_fisher_jenks['SGB2-Quote (%) gesamt'].values\n",
        "\n",
        "# Berechnen der Bins mit der FisherJenks-Methode\n",
        "classifier = FisherJenks(data, k=5)\n",
        "bins = classifier.bins\n",
        "bins = np.insert(bins, 0, 0)\n",
        "\n",
        "# Erstellen des Histogramms\n",
        "plt.hist(data, bins=bins, edgecolor='black', color='lightblue', alpha=0.6)\n",
        "plt.xlabel('SGB2-Quote (%)')\n",
        "plt.ylabel('Anzahl')\n",
        "plt.title('FisherJenks Bins')\n",
        "plt.show()\n",
        "\n",
        "# Ausgabe der Bin-Ranges und der Anzahl der Werte in jedem Bin\n",
        "for i in range(len(bins)-1):\n",
        "    print(f\"Bin {i+1}: {bins[i]}-{bins[i+1]}, Anzahl: {((data > bins[i]) & (data <= bins[i+1])).sum()}\")"
      ]
    },
    {
      "cell_type": "markdown",
      "metadata": {
        "id": "ZYrWxkQ9vRFE"
      },
      "source": [
        "## 3.11 Bins-Spalte ergaenzen"
      ]
    },
    {
      "cell_type": "code",
      "execution_count": null,
      "metadata": {
        "id": "Y0Jh2XQWvRFE"
      },
      "outputs": [],
      "source": [
        "# Grenzen und Labels fuer die Bins (basierend auf FisherJenks) definieren\n",
        "bins = [0, 2, 4, 7, 11, 100]\n",
        "labels = [1, 2, 3, 4, 5]\n",
        "\n",
        "# Neue 'bins'-Spalte erstellen\n",
        "stacked_lb_bev_ue70['bins'] = pd.cut(stacked_lb_bev_ue70['SGB2-Quote (%)'], bins=bins, labels=labels)"
      ]
    },
    {
      "cell_type": "markdown",
      "metadata": {
        "id": "FV8QI1ovvRFE"
      },
      "source": [
        "## 3.12 Problem beheben, das durch 7-stellige AGS bei der Verknuepfung der Daten mit den Shapefiles in tableau entsteht"
      ]
    },
    {
      "cell_type": "code",
      "execution_count": null,
      "metadata": {
        "id": "1JGs1sv8vRFF"
      },
      "outputs": [],
      "source": [
        "# Spalte \"AGS\" als String definieren\n",
        "stacked_lb_bev_ue70[\"AGS\"] = stacked_lb_bev_ue70[\"AGS\"].astype(str)\n",
        "\n",
        "# \"0\" vor den Eintraegen mit genau 7 Zeichen hinzufuegen\n",
        "stacked_lb_bev_ue70[\"AGS\"] = stacked_lb_bev_ue70[\"AGS\"].apply(lambda x: '0' + x if len(x) == 7 else x)"
      ]
    },
    {
      "cell_type": "markdown",
      "metadata": {
        "id": "kprLh9SCvRFF"
      },
      "source": [
        "## 3.13 AGS fuer Kreisebene ergaenzen (zur Verknuepfung mit den entsprechenden Shapefiles in tableau)"
      ]
    },
    {
      "cell_type": "code",
      "execution_count": null,
      "metadata": {
        "id": "RUEFG5fkvRFF"
      },
      "outputs": [],
      "source": [
        "stacked_lb_bev_ue70['AGS_Kreis'] = stacked_lb_bev_ue70['AGS'].str[:5]"
      ]
    },
    {
      "cell_type": "markdown",
      "metadata": {
        "id": "RdovPB8evRFF"
      },
      "source": [
        "## 3.14 AGS fuer Bundesland ergaenzen (zur Verknuepfung mit den entsprechenden Shapefiles in tableau)"
      ]
    },
    {
      "cell_type": "code",
      "execution_count": null,
      "metadata": {
        "id": "7QzJMAE2vRFF"
      },
      "outputs": [],
      "source": [
        "stacked_lb_bev_ue70['AGS_BL'] = stacked_lb_bev_ue70['AGS'].str[:2]"
      ]
    },
    {
      "cell_type": "markdown",
      "metadata": {
        "id": "zc13_knRvRFF"
      },
      "source": [
        "# 4. Tabelle fuer SBG II-Dynamik-Indikator erstellen\n",
        "\n",
        "#### Berechnung der Entwicklung der Quote in den Gemeinden in den Jahren 2014 bis 2021"
      ]
    },
    {
      "cell_type": "markdown",
      "metadata": {
        "id": "jGG3fdfjvRFF"
      },
      "source": [
        "## 4.1 Neues Dataframe erstellen und filtern"
      ]
    },
    {
      "cell_type": "code",
      "execution_count": null,
      "metadata": {
        "id": "xx7NMilivRFF"
      },
      "outputs": [],
      "source": [
        "# Neues DataFrame 'sgb_ii_dynamik' als Kopie von 'stacked_lb_bev_ue70' erstellen\n",
        "sgb_ii_dynamik = stacked_lb_bev_ue70.copy(deep=True)"
      ]
    },
    {
      "cell_type": "code",
      "execution_count": null,
      "metadata": {
        "id": "43xtLeRFvRFF"
      },
      "outputs": [],
      "source": [
        "# DataFrame 'sgb_ii_dynamik' fuer die Jahre 2014 und 2021 filtern\n",
        "sgb_ii_dynamik = sgb_ii_dynamik[sgb_ii_dynamik['Jahr'].isin([2014, 2021])]"
      ]
    },
    {
      "cell_type": "code",
      "execution_count": null,
      "metadata": {
        "id": "48CIkGdjvRFF"
      },
      "outputs": [],
      "source": [
        "# Erste Zeilen des gefilterten DataFrames anzeigen\n",
        "sgb_ii_dynamik.head(5)"
      ]
    },
    {
      "cell_type": "markdown",
      "metadata": {
        "id": "YkVWhh4wvRFF"
      },
      "source": [
        "## 4.2 Nicht benoetigte Spalten entfernen"
      ]
    },
    {
      "cell_type": "code",
      "execution_count": null,
      "metadata": {
        "id": "6JOpMfQhvRFF"
      },
      "outputs": [],
      "source": [
        "# Liste der benoetigten Spalten erstellen\n",
        "gewuenschte_spalten = [\"AGS\", \"Gemeinde\", \"Altersgruppe_LB\", \"Jahr\", \"Anzahl_LB\", \"Anzahl_Bevoelkerung\", \"SGB2-Quote (%)\", \"AGS_Kreis\", \"AGS_BL\"]\n",
        "\n",
        "# Nur die benoetigten Spalten uebernehmen\n",
        "sgb_ii_dynamik = sgb_ii_dynamik.loc[:,gewuenschte_spalten]"
      ]
    },
    {
      "cell_type": "code",
      "execution_count": null,
      "metadata": {
        "id": "tq1HhDo0vRFF"
      },
      "outputs": [],
      "source": [
        "# DataFrame anzeigen\n",
        "sgb_ii_dynamik.head(5)"
      ]
    },
    {
      "cell_type": "markdown",
      "metadata": {
        "id": "6-SFKskvvRFG"
      },
      "source": [
        "## 4.3: Dataframe umstrukturieren mit \"pivot\""
      ]
    },
    {
      "cell_type": "code",
      "execution_count": null,
      "metadata": {
        "id": "50pDvfxhvRFG"
      },
      "outputs": [],
      "source": [
        "# unstack mittels pivot-Methode\n",
        "sgb_ii_dynamik_unstacked = sgb_ii_dynamik.pivot(index=[\"AGS\", \"Gemeinde\", \"Altersgruppe_LB\", \"AGS_Kreis\", \"AGS_BL\"],\n",
        "                                                columns=\"Jahr\",\n",
        "                                                values=[\"Anzahl_LB\", \"Anzahl_Bevoelkerung\", \"SGB2-Quote (%)\"])\n",
        "\n",
        "# Tabellenkopf anzeigen\n",
        "sgb_ii_dynamik_unstacked.head()"
      ]
    },
    {
      "cell_type": "code",
      "execution_count": null,
      "metadata": {
        "id": "O0tJdq63vRFG"
      },
      "outputs": [],
      "source": [
        "# Spalten-Index Name entfernen\n",
        "sgb_ii_dynamik_unstacked.columns.name = None\n",
        "\n",
        "# Spalten temporaer neu benennen, um Multiindex zu entfernen\n",
        "sgb_ii_dynamik_unstacked.columns = [f\"temp_{col}\" for col in sgb_ii_dynamik_unstacked.columns]"
      ]
    },
    {
      "cell_type": "code",
      "execution_count": null,
      "metadata": {
        "id": "bSBTc2PIvRFG"
      },
      "outputs": [],
      "source": [
        "# Index zuruecksetzen\n",
        "sgb_ii_dynamik_unstacked.reset_index(inplace=True)"
      ]
    },
    {
      "cell_type": "code",
      "execution_count": null,
      "metadata": {
        "id": "-i2a9pBUvRFG"
      },
      "outputs": [],
      "source": [
        "# DataFrame anzeigen\n",
        "sgb_ii_dynamik_unstacked.head(5)\n"
      ]
    },
    {
      "cell_type": "markdown",
      "metadata": {
        "id": "tDZ1ue5xvRFG"
      },
      "source": [
        "## 4.4 Spaltennamen final umbenennen"
      ]
    },
    {
      "cell_type": "code",
      "execution_count": null,
      "metadata": {
        "id": "sgnR5ja0vRFG"
      },
      "outputs": [],
      "source": [
        "# Dictionary fuer Umbenennungen der Spalten erstellen\n",
        "umbenennungen = {\n",
        "    \"temp_('Anzahl_LB', 2014)\": \"Anzahl_LB_2014\",\n",
        "    \"temp_('Anzahl_LB', 2021)\": \"Anzahl_LB_2021\",\n",
        "    \"temp_('Anzahl_Bevoelkerung', 2014)\": \"Anzahl_Bevoelkerung_2014\",\n",
        "    \"temp_('Anzahl_Bevoelkerung', 2021)\": \"Anzahl_Bevoelkerung_2021\",\n",
        "    \"temp_('SGB2-Quote (%)', 2014)\": \"SGB2-Quote (%)_2014\",\n",
        "    \"temp_('SGB2-Quote (%)', 2021)\": \"SGB2-Quote (%)_2021\"\n",
        "}"
      ]
    },
    {
      "cell_type": "code",
      "execution_count": null,
      "metadata": {
        "id": "ZTWKlM4GvRFG"
      },
      "outputs": [],
      "source": [
        "# Umbenennungen auf die Spalten anwenden\n",
        "sgb_ii_dynamik_unstacked.rename(columns=umbenennungen, inplace=True)"
      ]
    },
    {
      "cell_type": "code",
      "execution_count": null,
      "metadata": {
        "id": "EsAsNQRyvRFG"
      },
      "outputs": [],
      "source": [
        "# DataFrame anzeigen\n",
        "sgb_ii_dynamik_unstacked.head(5)"
      ]
    },
    {
      "cell_type": "markdown",
      "metadata": {
        "id": "KJZBGbLIvRFG"
      },
      "source": [
        "## 4.5: Ergebnisse ueberpruefen"
      ]
    },
    {
      "cell_type": "code",
      "execution_count": null,
      "metadata": {
        "id": "m4GxVNi5vRFG"
      },
      "outputs": [],
      "source": [
        "# Anzahl der NaN-Werte in den Spalten \"Anzahl_Bevoelkerung\" und \"Anzahl_LB\" berechnen\n",
        "anzahl_nan_anzahl_bevoelkerung = sgb_ii_dynamik_unstacked['Anzahl_Bevoelkerung_2014'].isna().sum()\n",
        "anzahl_nan_anzahl_lb = sgb_ii_dynamik_unstacked['Anzahl_LB_2014'].isna().sum()"
      ]
    },
    {
      "cell_type": "code",
      "execution_count": null,
      "metadata": {
        "id": "famQW7kdvRFG"
      },
      "outputs": [],
      "source": [
        "# Ergebnisse anzeigen\n",
        "print(f\"Anzahl NaN-Werte Bevoelkerung': {anzahl_nan_anzahl_bevoelkerung}\")\n",
        "print(f\"Anzahl NaN-Werte LB': {anzahl_nan_anzahl_lb}\")"
      ]
    },
    {
      "cell_type": "markdown",
      "metadata": {
        "id": "n0_hx5_3vRFH"
      },
      "source": [
        "## 4.6: Fehlersuche und -loesung"
      ]
    },
    {
      "cell_type": "code",
      "execution_count": null,
      "metadata": {
        "id": "xuQRd03qvRFH"
      },
      "outputs": [],
      "source": [
        "# Anzahl der NaN-Werte im urspruenglichen Dataframe pruefen\n",
        "anzahl_nan_vor_pivot = stacked_lb_bev_ue70['Anzahl_Bevoelkerung'].isna().sum()\n",
        "anzahl_nan_vor_pivot"
      ]
    },
    {
      "cell_type": "code",
      "execution_count": null,
      "metadata": {
        "id": "rqszaxWAvRFH"
      },
      "outputs": [],
      "source": [
        "# Anzahl der NaN-Werte im pivotierten Dataframe pruefen\n",
        "anzahl_nan_nach_pivot = sgb_ii_dynamik_unstacked['Anzahl_Bevoelkerung_2014'].isna().sum()\n",
        "anzahl_nan_nach_pivot"
      ]
    },
    {
      "cell_type": "code",
      "execution_count": null,
      "metadata": {
        "id": "vo3tEM1PvRFH"
      },
      "outputs": [],
      "source": [
        "# Stichprobenartige Auswahl von zehn Zeilen, in denen 'Anzahl_Bevoelkerung_2014' oder 'Anzahl_LB_2014' == NaN ist, anzeigen\n",
        "stichprobe_nan = sgb_ii_dynamik_unstacked[\n",
        "    sgb_ii_dynamik_unstacked['Anzahl_Bevoelkerung_2014'].isna() |\n",
        "    sgb_ii_dynamik_unstacked['Anzahl_LB_2014'].isna()\n",
        "].sample(10)\n",
        "\n",
        "stichprobe_nan.head"
      ]
    },
    {
      "cell_type": "code",
      "execution_count": null,
      "metadata": {
        "id": "dpHDiLV2vRFH"
      },
      "outputs": [],
      "source": [
        "# Zeilen mit NaN-Werten in den genannten Spalten entfernen\n",
        "sgb_ii_dynamik_cleaned = sgb_ii_dynamik_unstacked.dropna(subset=['Anzahl_Bevoelkerung_2014', 'Anzahl_LB_2014', 'Anzahl_Bevoelkerung_2021', 'Anzahl_LB_2021'])"
      ]
    },
    {
      "cell_type": "code",
      "execution_count": null,
      "metadata": {
        "scrolled": true,
        "id": "Pru-UHHvvRFH"
      },
      "outputs": [],
      "source": [
        "# Bereinigtes DataFrame ueberpruefen\n",
        "sgb_ii_dynamik_cleaned.info()"
      ]
    },
    {
      "cell_type": "code",
      "execution_count": null,
      "metadata": {
        "id": "Q2DJy304vRFH"
      },
      "outputs": [],
      "source": [
        "# Fertiges DataFrame umbenennen und die ersten Zeilen anzeigen\n",
        "sgb_ii_dynamik_final = sgb_ii_dynamik_cleaned\n",
        "sgb_ii_dynamik_final.head()"
      ]
    },
    {
      "cell_type": "markdown",
      "metadata": {
        "id": "sdVriHX-vRFH"
      },
      "source": [
        "## 4.7: Daten aggregieren in Vorbereitung der Berechnung der Quoten und Klassifizierung"
      ]
    },
    {
      "cell_type": "code",
      "execution_count": null,
      "metadata": {
        "id": "p2mjA-uLvRFH"
      },
      "outputs": [],
      "source": [
        "# Daten basierend auf Altersgruppen aggregieren\n",
        "aggregierte_daten = sgb_ii_dynamik_cleaned.groupby(['AGS', 'Gemeinde', 'AGS_Kreis', 'AGS_BL']).agg({\n",
        "    'Anzahl_LB_2014': 'sum',\n",
        "    'Anzahl_LB_2021': 'sum',\n",
        "    'Anzahl_Bevoelkerung_2014': 'sum',\n",
        "    'Anzahl_Bevoelkerung_2021': 'sum',\n",
        "}).reset_index()"
      ]
    },
    {
      "cell_type": "code",
      "execution_count": null,
      "metadata": {
        "id": "D01hPYbjvRFH"
      },
      "outputs": [],
      "source": [
        "# Aggregierte Tabelle anzeigen\n",
        "sgb_ii_dynamik_cleaned.head()"
      ]
    },
    {
      "cell_type": "markdown",
      "metadata": {
        "id": "Jta_nFcmvRFH"
      },
      "source": [
        "## 4.8: Quoten und Dynamik berechnen"
      ]
    },
    {
      "cell_type": "code",
      "execution_count": null,
      "metadata": {
        "id": "4jm3vqNkvRFH"
      },
      "outputs": [],
      "source": [
        "# neue Spalte \"SGB2_Quote_2014\" erzeugen\n",
        "aggregierte_daten['SGB2_Quote_2014'] = (aggregierte_daten['Anzahl_LB_2014'] / aggregierte_daten['Anzahl_Bevoelkerung_2014']) * 100\n",
        "\n",
        "# neue Spalte \"SGB2_Quote_2021\" erzeugen\n",
        "aggregierte_daten['SGB2_Quote_2021'] = (aggregierte_daten['Anzahl_LB_2021'] / aggregierte_daten['Anzahl_Bevoelkerung_2021']) * 100\n",
        "\n",
        "# neue Spalte \"Veraenderung\" erzeugen\n",
        "aggregierte_daten['Veraenderung'] = (aggregierte_daten['SGB2_Quote_2021'] - aggregierte_daten['SGB2_Quote_2014'] )\n",
        "\n",
        "# aggregierte Tabelle mit Veraenderung anzeigen\n",
        "aggregierte_daten.head()"
      ]
    },
    {
      "cell_type": "markdown",
      "metadata": {
        "id": "jAIS9zOnvRFI"
      },
      "source": [
        "## 4.9: Intervalle fuer die Darstellung der Dynamik auf der Karte berechnen"
      ]
    },
    {
      "cell_type": "code",
      "execution_count": null,
      "metadata": {
        "id": "19tUtw3ivRFI"
      },
      "outputs": [],
      "source": [
        "# Mittelwert und Standardabweichung der Werte in der Spalte \"Veraenderung\" berechnen\n",
        "mittelwert_veraenderung = aggregierte_daten['Veraenderung'].mean()\n",
        "standardabweichung_veraenderung = aggregierte_daten['Veraenderung'].std()"
      ]
    },
    {
      "cell_type": "code",
      "execution_count": null,
      "metadata": {
        "id": "SneZHJ0tvRFI"
      },
      "outputs": [],
      "source": [
        "# Ergebnisse anzeigen\n",
        "print(f\"Mittelwert der Veraenderung: {mittelwert_veraenderung}\")\n",
        "print(f\"Standardabweichung der Veraenderung: {standardabweichung_veraenderung}\")"
      ]
    },
    {
      "cell_type": "code",
      "execution_count": null,
      "metadata": {
        "id": "t6p8BYv0vRFI"
      },
      "outputs": [],
      "source": [
        "# Definition der Intervalle\n",
        "print(f\"Intervall fuer stabile Entwicklung: von {mittelwert_veraenderung - standardabweichung_veraenderung} bis {mittelwert_veraenderung + standardabweichung_veraenderung}\")\n",
        "print(f\"Steigende Entwicklung: ab {mittelwert_veraenderung + standardabweichung_veraenderung}\")\n",
        "print(f\"Abnehmende Entwicklung: ab {mittelwert_veraenderung - standardabweichung_veraenderung}\")\n"
      ]
    },
    {
      "cell_type": "markdown",
      "metadata": {
        "id": "4goh5JlKvRFI"
      },
      "source": [
        "# 5. Fertige Tabellen exportieren als Excel und CSV"
      ]
    },
    {
      "cell_type": "code",
      "execution_count": null,
      "metadata": {
        "id": "k1Z6DgqQvRFI"
      },
      "outputs": [],
      "source": [
        "# DataFrame stacked_elb_schul speichern\n",
        "stacked_elb_schul_ue70.to_excel('elb_quote_schul_ue70.xlsx', index=False)\n",
        "stacked_elb_schul_ue70.to_csv('elb_quote_schul_ue70.csv', index=False)\n",
        "\n",
        "# DataFrame stacked_elb_beruf speichern\n",
        "stacked_elb_beruf_ue70.to_excel('elb_quote_beruf_ue70.xlsx', index=False)\n",
        "stacked_elb_beruf_ue70.to_csv('elb_quote_beruf_ue70.csv', index=False)\n",
        "\n",
        "# DataFrame stacked_lb_bev speichern\n",
        "stacked_lb_bev_ue70.to_excel('sgb2_quote_ue70.xlsx', index=False)\n",
        "stacked_lb_bev_ue70.to_csv('sgb2_quote_ue70.csv', index=False)\n",
        "\n",
        "# Dynamik-Indikator speichern\n",
        "sgb_ii_dynamik_final.to_excel('sgb_ii_dynamik_final.xlsx', index=False)\n",
        "sgb_ii_dynamik_final.to_csv('sgb_ii_dynamik_final.csv', index=False)"
      ]
    },
    {
      "cell_type": "markdown",
      "metadata": {
        "id": "bsPBWqs5vRFI"
      },
      "source": [
        "# 6. Diagramme zur Darstellung der Verteilung und Klassifizierung auf der Themenseite erzeugen"
      ]
    },
    {
      "cell_type": "markdown",
      "metadata": {
        "id": "Td8iyNM2vRFI"
      },
      "source": [
        "## 6.1 Statusindikator"
      ]
    },
    {
      "cell_type": "code",
      "execution_count": null,
      "metadata": {
        "id": "0JvZrVtIvRFI"
      },
      "outputs": [],
      "source": [
        "# Daten vorbereiten\n",
        "bins = [0, 2, 4, 7, 12, 40] #Rundung der Klassen auf ganze Zahlen\n",
        "counts = [3197, 3657, 2407, 959, 286] #Die Anzahl der hier angegebenen Gemeinden pro Klasse wird in Tableau berechnet\n",
        "\n",
        "# Breiten der Bins berechnen\n",
        "bin_widths = [bins[i+1] - bins[i] for i in range(len(bins)-1)]\n",
        "\n",
        "# Groesse des Plots anpassen\n",
        "plt.figure(figsize=(14,8))\n",
        "\n",
        "# Histogramm erstellen\n",
        "bars = plt.bar(bins[:-1], counts, width=bin_widths, color='#9AB688', edgecolor='black', align='edge')\n",
        "\n",
        "# Achsenbezeichnungen festlegen\n",
        "plt.xlabel('SGB II-Hilfequote')\n",
        "plt.ylabel('Anzahl der Gemeinden')\n",
        "\n",
        "# Titel hinzufuegen\n",
        "plt.title('Verteilung der Gemeinden nach ihrer SGB II-Hilfequote \\n(Klassifizierung nach Fisher-Jenks-Algorithmus)',\n",
        "          fontweight='semibold', pad=30)\n",
        "\n",
        "# Y-Achse Limit und Ticks einstellen\n",
        "plt.ylim(0, 4000)\n",
        "plt.yticks(counts + [4000])\n",
        "\n",
        "# X-Achse Ticks und Labels einstellen\n",
        "plt.xticks(bins, [f'{bins[i]}%' for i in range(len(bins))])\n",
        "\n",
        "# Histogrammbalkenbeschriftung hinzufuegen\n",
        "for bar, count in zip(bars, counts):\n",
        "    # Position der Beschriftung in der Mitte des Balkens berechnen\n",
        "    x = bar.get_x() + bar.get_width() / 2\n",
        "    y = count\n",
        "\n",
        "    # Text hinzufuegen\n",
        "    plt.text(x, y + 200, f\"{locale.format_string('%d', count, grouping=True)} \\nGem.\", color='black', ha='center')\n",
        "\n",
        "plt.grid(False)\n",
        "\n",
        "# Rahmenlinien entfernen\n",
        "plt.gca().spines['top'].set_visible(False)\n",
        "plt.gca().spines['right'].set_visible(False)\n",
        "\n",
        "# Ticks aktivieren\n",
        "plt.tick_params(axis='both', which='both', bottom=True, top=False, left=True, right=False)\n",
        "\n",
        "# Diagramm als Bilddatei speichern\n",
        "plt.savefig('Histogramm_weiss_balken_gruen.png', dpi=300, bbox_inches='tight')\n",
        "\n",
        "plt.show()"
      ]
    },
    {
      "cell_type": "markdown",
      "metadata": {
        "id": "cNXwqs4DvRFI"
      },
      "source": [
        "## 6.2 Dynamikindikator"
      ]
    },
    {
      "cell_type": "code",
      "execution_count": null,
      "metadata": {
        "id": "tKe1tOA2vRFJ"
      },
      "outputs": [],
      "source": [
        "# Grenzwerte für die Klasseneinteilung festlegen\n",
        "start_abnehmend = aggregierte_daten['Veraenderung'].min()\n",
        "untergrenze_abnehmend = -3.5422641895488765\n",
        "obergrenze_stabil = 1.093529746625937\n",
        "obergrenze_steigend = aggregierte_daten['Veraenderung'].max()\n",
        "\n",
        "# Berechnung der Klassenzugehoerigkeiten\n",
        "# Gemeinden mit abnehmender Entwicklung\n",
        "anzahl_abnehmend = (aggregierte_daten['Veraenderung'] < untergrenze_abnehmend).sum()\n",
        "\n",
        "# Gemeinden mit stabiler Entwicklung\n",
        "anzahl_stabil = ((aggregierte_daten['Veraenderung'] >= untergrenze_abnehmend) &\n",
        "                 (aggregierte_daten['Veraenderung'] <= obergrenze_stabil)).sum()\n",
        "\n",
        "# Gemeinden mit steigender Entwicklung\n",
        "anzahl_steigend = (aggregierte_daten['Veraenderung'] > obergrenze_stabil).sum()\n",
        "\n",
        "# Ergebnis der Klasseneinteilung anzeigen\n",
        "aggregierte_daten_klassifiziert = pd.DataFrame({\n",
        "    'Klasse': ['Abnehmende Entwicklung', 'Stabile Entwicklung', 'Steigende Entwicklung'],\n",
        "    'Anzahl': [anzahl_abnehmend, anzahl_stabil, anzahl_steigend]\n",
        "})\n",
        "\n",
        "aggregierte_daten_klassifiziert.head()"
      ]
    },
    {
      "cell_type": "code",
      "execution_count": null,
      "metadata": {
        "id": "u3mIreLYvRFJ"
      },
      "outputs": [],
      "source": [
        "# Einstellen des Locale, um Zahlen formatiert auszugeben\n",
        "locale.setlocale(locale.LC_ALL, 'de_DE')\n",
        "\n",
        "# Daten vorbereiten\n",
        "bins = [start_abnehmend, untergrenze_abnehmend, obergrenze_stabil, obergrenze_steigend]  # Endwerte des letzten Balkens anpassen\n",
        "counts = [anzahl_abnehmend, anzahl_stabil, anzahl_steigend]\n",
        "\n",
        "# Breiten der Bins berechnen\n",
        "bin_widths = [bins[i+1] - bins[i] for i in range(len(bins)-1)]\n",
        "\n",
        "# Groesse des Plots anpassen\n",
        "plt.figure(figsize=(14,8))\n",
        "\n",
        "# Histogramm erstellen\n",
        "bars = plt.bar(bins[:-1], counts, width=bin_widths, color='#9AB688', edgecolor='black', align='edge')\n",
        "\n",
        "# Achsenbezeichnungen festlegen\n",
        "plt.xlabel('Veraenderungswerte')\n",
        "plt.ylabel('Anzahl der Gemeinden')\n",
        "\n",
        "# Titel hinzufügen\n",
        "plt.title('Verteilung der Gemeinden nach Veraenderungswerten', fontweight='semibold', pad=30)\n",
        "\n",
        "# Y-Achse Limit und Ticks einstellen\n",
        "max_count = max(counts)\n",
        "plt.ylim(0, max_count + 500)  # Etwas Raum über dem höchsten Balken lassen\n",
        "plt.yticks(counts + [max_count + 500])\n",
        "\n",
        "# X-Achse Ticks und Labels einstellen\n",
        "plt.xticks(bins, [f'{b:.2f}' for b in bins])\n",
        "\n",
        "# Histogrammbalkenbeschriftung hinzufügen\n",
        "for bar, count in zip(bars, counts):\n",
        "    # Position der Beschriftung in der Mitte des Balkens berechnen\n",
        "    x = bar.get_x() + bar.get_width() / 2\n",
        "    y = count\n",
        "\n",
        "    # Text hinzufuegen\n",
        "    plt.text(x, y + 50, f\"{locale.format_string('%d', count, grouping=True)} \\nGem.\", color='black', ha='center')\n",
        "\n",
        "plt.grid(False)\n",
        "\n",
        "# Rahmenlinien entfernen\n",
        "plt.gca().spines['top'].set_visible(False)\n",
        "plt.gca().spines['right'].set_visible(False)\n",
        "\n",
        "# Ticks aktivieren\n",
        "plt.tick_params(axis='both', which='both', bottom=True, top=False, left=True, right=False)\n",
        "\n",
        "# Diagramm anzeigen\n",
        "plt.show()"
      ]
    },
    {
      "cell_type": "code",
      "execution_count": null,
      "metadata": {
        "id": "atgBDkjMvRFJ"
      },
      "outputs": [],
      "source": []
    }
  ],
  "metadata": {
    "kernelspec": {
      "display_name": "Python 3 (ipykernel)",
      "language": "python",
      "name": "python3"
    },
    "language_info": {
      "codemirror_mode": {
        "name": "ipython",
        "version": 3
      },
      "file_extension": ".py",
      "mimetype": "text/x-python",
      "name": "python",
      "nbconvert_exporter": "python",
      "pygments_lexer": "ipython3",
      "version": "3.9.12"
    },
    "varInspector": {
      "cols": {
        "lenName": 16,
        "lenType": 16,
        "lenVar": 40
      },
      "kernels_config": {
        "python": {
          "delete_cmd_postfix": "",
          "delete_cmd_prefix": "del ",
          "library": "var_list.py",
          "varRefreshCmd": "print(var_dic_list())"
        },
        "r": {
          "delete_cmd_postfix": ") ",
          "delete_cmd_prefix": "rm(",
          "library": "var_list.r",
          "varRefreshCmd": "cat(var_dic_list()) "
        }
      },
      "types_to_exclude": [
        "module",
        "function",
        "builtin_function_or_method",
        "instance",
        "_Feature"
      ],
      "window_display": false
    },
    "colab": {
      "provenance": []
    }
  },
  "nbformat": 4,
  "nbformat_minor": 0
}